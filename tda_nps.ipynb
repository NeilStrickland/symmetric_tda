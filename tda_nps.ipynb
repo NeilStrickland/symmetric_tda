{
 "cells": [
  {
   "cell_type": "code",
<<<<<<< HEAD
   "execution_count": 1,
=======
   "execution_count": 20,
>>>>>>> 6fb28a4e87cfa384d9130d42c06d55fc18392d19
   "metadata": {},
   "outputs": [],
   "source": [
    "import numpy as np\n",
    "import gtda\n",
    "import matplotlib.pyplot as plt\n",
<<<<<<< HEAD
    "from gtda.plotting import plot_diagram\n",
    "from space import *"
=======
    "from pathlib import Path #auxilliary module\n",
    "\n",
    "\n"
   ]
  },
  {
   "cell_type": "code",
   "execution_count": 27,
   "metadata": {},
   "outputs": [
    {
     "name": "stdout",
     "output_type": "stream",
     "text": [
      "There are 30 point clouds in 3 dimensions, each with 100 points.\n"
     ]
    }
   ],
   "source": [
    "import os\n",
    "\n",
    "import sys\n",
    "\n",
    "# Add the directory containing the 'data' folder to the Python path\n",
    "sys.path.append(r'C:\\Users\\Joe\\Documents\\University\\4th Year\\symmetric_tda\\gtda')\n"
>>>>>>> 6fb28a4e87cfa384d9130d42c06d55fc18392d19
   ]
  },
  {
   "cell_type": "code",
<<<<<<< HEAD
   "execution_count": 2,
=======
   "execution_count": 3,
   "metadata": {},
   "outputs": [],
   "source": [
    "class Space:\n",
    "    \"\"\"\n",
    "    Create a space object with a name and an embedding dimension\n",
    "    \"\"\"\n",
    "    def __init__(self, name, edim):\n",
    "        self.name = name\n",
    "        self.edim = edim\n",
    "\n",
    "    def sample(self, n):\n",
    "        raise NotImplementedError()\n",
    "\n",
    "    def poincare_polynomial(self):\n",
    "        raise NotImplementedError()\n",
    "\n",
    "    def barcode(self):\n",
    "        raise NotImplementedError()"
   ]
  },
  {
   "cell_type": "code",
   "execution_count": 4,
   "metadata": {},
   "outputs": [],
   "source": [
    "class Sphere(Space):\n",
    "    def __init__(self, dim):\n",
    "        \"\"\"\n",
    "        Create a sphere of dimension dim.  This is the set of unit vectors \n",
    "        in R ^(dim + 1), so the embedding dimension is dim+1.\n",
    "        \"\"\"\n",
    "        self.dim = dim\n",
    "        super().__init__('S^{' + str(dim) + '}', dim+1)\n",
    "\n",
    "    def sample(self, n):\n",
    "        \"\"\"\n",
    "        Returns a numpy matrix of shape n x edim, where each row is a\n",
    "        random point on the sphere.  To do this, we generate a matrix\n",
    "        of shape n x edim of standard normal random variables, and then\n",
    "        normalize each row to have unit length.\n",
    "        \"\"\"\n",
    "        x = np.random.randn(n, self.edim)\n",
    "        x /= np.linalg.norm(x, axis=1)[:, None]\n",
    "        return x\n",
    "\n",
    "    def poincare_polynomial(self):\n",
    "        \"\"\"\n",
    "        This returns the correct answer for the Poincare polynomial \n",
    "        of the sphere, represented as an integer-valued numpy array.\n",
    "        The i-th entry is the coefficient of t^i, which is the rank\n",
    "        of the i-th homology group.  In the case of the sphere, the\n",
    "        Poincare polynomial is 1 + t^dim.\n",
    "        \"\"\"\n",
    "        p = np.zeros(self.dim+1, dtype=int)\n",
    "        p[0] = 1\n",
    "        p[self.dim] = 1\n",
    "        return p\n"
   ]
  },
  {
   "cell_type": "code",
   "execution_count": 33,
   "metadata": {},
   "outputs": [],
   "source": [
    "class ComplexProjectiveSpace(Space):\n",
    "    def __init__(self, cdim):\n",
    "        self.cdim = cdim\n",
    "        super().__init__('CP^{' + str(cdim) + '}', (cdim+1) ** 2)\n",
    "\n",
    "    def sample(self, n):\n",
    "        d = self.cdim+1\n",
    "        x = np.random.randn(n, d) + 1j * np.random.randn(n, d)\n",
    "        x /= np.linalg.norm(x, axis=1)[:, None]\n",
    "        return x.reshape(n,d,1) * np.conj(x.reshape(n, 1, d))\n",
    "\n",
    "    def poincare_polynomial(self):\n",
    "        d = self.cdim\n",
    "        p = np.zeros(2*d + 2, dtype=int)\n",
    "        p[0::2] = 1\n",
    "        return p"
   ]
  },
  {
   "cell_type": "code",
   "execution_count": 6,
>>>>>>> 6fb28a4e87cfa384d9130d42c06d55fc18392d19
   "metadata": {},
   "outputs": [
    {
     "name": "stdout",
     "output_type": "stream",
     "text": [
      "S^{3}\n",
      "4\n",
      "4\n"
     ]
    }
   ],
   "source": [
    "X = Sphere(3)\n",
    "print(X.name)\n",
    "print(X.dim)\n",
    "print(X.edim)"
   ]
  },
  {
   "cell_type": "code",
<<<<<<< HEAD
   "execution_count": 12,
=======
   "execution_count": 7,
   "metadata": {},
   "outputs": [
    {
     "data": {
      "text/plain": [
       "'CP^{3}'"
      ]
     },
     "execution_count": 7,
     "metadata": {},
     "output_type": "execute_result"
    }
   ],
   "source": [
    "X = ComplexProjectiveSpace(3)\n",
    "X.name"
   ]
  },
  {
   "cell_type": "code",
   "execution_count": 8,
>>>>>>> 6fb28a4e87cfa384d9130d42c06d55fc18392d19
   "metadata": {},
   "outputs": [
    {
     "data": {
      "application/vnd.plotly.v1+json": {
       "config": {
        "plotlyServerURL": "https://plot.ly"
       },
       "data": [
        {
         "hoverinfo": "none",
         "line": {
          "color": "black",
          "dash": "dash",
          "width": 1
         },
         "mode": "lines",
         "showlegend": false,
         "type": "scatter",
         "x": [
          -0.035057787895202634,
          1.7879471826553344
         ],
         "y": [
          -0.035057787895202634,
          1.7879471826553344
         ]
        },
        {
         "hoverinfo": "text",
         "hovertext": [
          "(0.0, 0.07469841092824936)",
          "(0.0, 0.12457232177257538)",
          "(0.0, 0.1957465410232544)",
          "(0.0, 0.29983893036842346)",
          "(0.0, 0.33651405572891235)",
          "(0.0, 0.3471106290817261)",
          "(0.0, 0.348420649766922)",
          "(0.0, 0.3719330430030823)",
          "(0.0, 0.3772094249725342)",
          "(0.0, 0.3908064365386963)",
          "(0.0, 0.41157659888267517)",
          "(0.0, 0.4191325604915619)",
          "(0.0, 0.4214427173137665)",
          "(0.0, 0.4217599928379059)",
          "(0.0, 0.4268926978111267)",
          "(0.0, 0.45514100790023804)",
          "(0.0, 0.4609597325325012)",
          "(0.0, 0.46957096457481384)",
          "(0.0, 0.4865206182003021)",
          "(0.0, 0.4866597652435303)",
          "(0.0, 0.4973502457141876)",
          "(0.0, 0.49873700737953186)",
          "(0.0, 0.512342095375061)",
          "(0.0, 0.5138468742370605)",
          "(0.0, 0.5149127244949341)",
          "(0.0, 0.5168642997741699)",
          "(0.0, 0.5401113033294678)",
          "(0.0, 0.5432343482971191)",
          "(0.0, 0.5506371259689331)",
          "(0.0, 0.5625150799751282)",
          "(0.0, 0.5666980743408203)",
          "(0.0, 0.5826026797294617)",
          "(0.0, 0.5842987895011902)",
          "(0.0, 0.5863445401191711)",
          "(0.0, 0.5882788300514221)",
          "(0.0, 0.5929097533226013)",
          "(0.0, 0.6005545258522034)",
          "(0.0, 0.601021945476532)",
          "(0.0, 0.609812319278717)",
          "(0.0, 0.623548150062561)",
          "(0.0, 0.6325628161430359)",
          "(0.0, 0.6395520567893982)",
          "(0.0, 0.6484734416007996)",
          "(0.0, 0.6511862874031067)",
          "(0.0, 0.6544305086135864)",
          "(0.0, 0.6655738353729248)",
          "(0.0, 0.6710350513458252)",
          "(0.0, 0.7156343460083008)",
          "(0.0, 0.7477430105209351)"
         ],
         "mode": "markers",
         "name": "H0",
         "type": "scatter",
         "x": [
          0,
          0,
          0,
          0,
          0,
          0,
          0,
          0,
          0,
          0,
          0,
          0,
          0,
          0,
          0,
          0,
          0,
          0,
          0,
          0,
          0,
          0,
          0,
          0,
          0,
          0,
          0,
          0,
          0,
          0,
          0,
          0,
          0,
          0,
          0,
          0,
          0,
          0,
          0,
          0,
          0,
          0,
          0,
          0,
          0,
          0,
          0,
          0,
          0
         ],
         "y": [
          0.07469841092824936,
          0.12457232177257538,
          0.1957465410232544,
          0.29983893036842346,
          0.33651405572891235,
          0.3471106290817261,
          0.348420649766922,
          0.3719330430030823,
          0.3772094249725342,
          0.3908064365386963,
          0.41157659888267517,
          0.4191325604915619,
          0.4214427173137665,
          0.4217599928379059,
          0.4268926978111267,
          0.45514100790023804,
          0.4609597325325012,
          0.46957096457481384,
          0.4865206182003021,
          0.4866597652435303,
          0.4973502457141876,
          0.49873700737953186,
          0.512342095375061,
          0.5138468742370605,
          0.5149127244949341,
          0.5168642997741699,
          0.5401113033294678,
          0.5432343482971191,
          0.5506371259689331,
          0.5625150799751282,
          0.5666980743408203,
          0.5826026797294617,
          0.5842987895011902,
          0.5863445401191711,
          0.5882788300514221,
          0.5929097533226013,
          0.6005545258522034,
          0.601021945476532,
          0.609812319278717,
          0.623548150062561,
          0.6325628161430359,
          0.6395520567893982,
          0.6484734416007996,
          0.6511862874031067,
          0.6544305086135864,
          0.6655738353729248,
          0.6710350513458252,
          0.7156343460083008,
          0.7477430105209351
         ]
        },
        {
         "hoverinfo": "text",
         "hovertext": [
          "(1.007854700088501, 1.0428577661514282)",
          "(0.9213830232620239, 1.036088466644287)",
          "(0.855445384979248, 1.1327037811279297)",
          "(0.8342509269714355, 1.0685113668441772)",
          "(0.8200460076332092, 0.8318884968757629)",
          "(0.8048710823059082, 0.9123578071594238)",
          "(0.777510404586792, 0.8599820733070374)",
          "(0.7709882259368896, 0.9252579808235168)",
          "(0.7679137587547302, 1.0010629892349243)",
          "(0.7631117701530457, 0.8758512735366821)",
          "(0.7611637115478516, 1.1246784925460815)",
          "(0.7596588730812073, 0.989596962928772)",
          "(0.7516441345214844, 0.7729966640472412)",
          "(0.7410671710968018, 0.9182233214378357)",
          "(0.7378796935081482, 0.9682705998420715)",
          "(0.7358848452568054, 0.7894546985626221)",
          "(0.716089129447937, 0.8967329263687134)",
          "(0.7034791707992554, 0.8687499165534973)",
          "(0.7023661732673645, 0.9407892823219299)",
          "(0.6887717247009277, 0.9771247506141663)",
          "(0.6770541071891785, 0.8994792699813843)"
         ],
         "mode": "markers",
         "name": "H1",
         "type": "scatter",
         "x": [
          1.007854700088501,
          0.9213830232620239,
          0.855445384979248,
          0.8342509269714355,
          0.8200460076332092,
          0.8048710823059082,
          0.777510404586792,
          0.7709882259368896,
          0.7679137587547302,
          0.7631117701530457,
          0.7611637115478516,
          0.7596588730812073,
          0.7516441345214844,
          0.7410671710968018,
          0.7378796935081482,
          0.7358848452568054,
          0.716089129447937,
          0.7034791707992554,
          0.7023661732673645,
          0.6887717247009277,
          0.6770541071891785
         ],
         "y": [
          1.0428577661514282,
          1.036088466644287,
          1.1327037811279297,
          1.0685113668441772,
          0.8318884968757629,
          0.9123578071594238,
          0.8599820733070374,
          0.9252579808235168,
          1.0010629892349243,
          0.8758512735366821,
          1.1246784925460815,
          0.989596962928772,
          0.7729966640472412,
          0.9182233214378357,
          0.9682705998420715,
          0.7894546985626221,
          0.8967329263687134,
          0.8687499165534973,
          0.9407892823219299,
          0.9771247506141663,
          0.8994792699813843
         ]
        },
        {
         "hoverinfo": "text",
         "hovertext": [
          "(1.201409935951233, 1.3038690090179443)",
          "(1.1958425045013428, 1.2659568786621094)",
          "(1.1913025379180908, 1.204253911972046)",
          "(1.1705565452575684, 1.3248258829116821)",
          "(1.061954379081726, 1.0899567604064941)",
          "(1.0428577661514282, 1.2035678625106812)",
          "(0.9929586052894592, 1.0022852420806885)"
         ],
         "mode": "markers",
         "name": "H2",
         "type": "scatter",
         "x": [
          1.201409935951233,
          1.1958425045013428,
          1.1913025379180908,
          1.1705565452575684,
          1.061954379081726,
          1.0428577661514282,
          0.9929586052894592
         ],
         "y": [
          1.3038690090179443,
          1.2659568786621094,
          1.204253911972046,
          1.3248258829116821,
          1.0899567604064941,
          1.2035678625106812,
          1.0022852420806885
         ]
        },
        {
         "hoverinfo": "text",
         "hovertext": [
          "(1.4530861377716064, 1.6978429555892944)"
         ],
         "mode": "markers",
         "name": "H3",
         "type": "scatter",
         "x": [
          1.4530861377716064
         ],
         "y": [
          1.6978429555892944
         ]
        },
        {
         "hoverinfo": "text",
         "hovertext": [
          "(1.7055976390838623, 1.7206077575683594)",
          "(1.7038272619247437, 1.7212382555007935)",
          "(1.7037752866744995, 1.7212382555007935)",
          "(1.7002674341201782, 1.7206077575683594)",
          "(1.7002074718475342, 1.7528893947601318)"
         ],
         "mode": "markers",
         "name": "H4",
         "type": "scatter",
         "x": [
          1.7055976390838623,
          1.7038272619247437,
          1.7037752866744995,
          1.7002674341201782,
          1.7002074718475342
         ],
         "y": [
          1.7206077575683594,
          1.7212382555007935,
          1.7212382555007935,
          1.7206077575683594,
          1.7528893947601318
         ]
        }
       ],
       "layout": {
        "height": 500,
        "plot_bgcolor": "white",
        "template": {
         "data": {
          "bar": [
           {
            "error_x": {
             "color": "#2a3f5f"
            },
            "error_y": {
             "color": "#2a3f5f"
            },
            "marker": {
             "line": {
              "color": "#E5ECF6",
              "width": 0.5
             },
             "pattern": {
              "fillmode": "overlay",
              "size": 10,
              "solidity": 0.2
             }
            },
            "type": "bar"
           }
          ],
          "barpolar": [
           {
            "marker": {
             "line": {
              "color": "#E5ECF6",
              "width": 0.5
             },
             "pattern": {
              "fillmode": "overlay",
              "size": 10,
              "solidity": 0.2
             }
            },
            "type": "barpolar"
           }
          ],
          "carpet": [
           {
            "aaxis": {
             "endlinecolor": "#2a3f5f",
             "gridcolor": "white",
             "linecolor": "white",
             "minorgridcolor": "white",
             "startlinecolor": "#2a3f5f"
            },
            "baxis": {
             "endlinecolor": "#2a3f5f",
             "gridcolor": "white",
             "linecolor": "white",
             "minorgridcolor": "white",
             "startlinecolor": "#2a3f5f"
            },
            "type": "carpet"
           }
          ],
          "choropleth": [
           {
            "colorbar": {
             "outlinewidth": 0,
             "ticks": ""
            },
            "type": "choropleth"
           }
          ],
          "contour": [
           {
            "colorbar": {
             "outlinewidth": 0,
             "ticks": ""
            },
            "colorscale": [
             [
              0,
              "#0d0887"
             ],
             [
              0.1111111111111111,
              "#46039f"
             ],
             [
              0.2222222222222222,
              "#7201a8"
             ],
             [
              0.3333333333333333,
              "#9c179e"
             ],
             [
              0.4444444444444444,
              "#bd3786"
             ],
             [
              0.5555555555555556,
              "#d8576b"
             ],
             [
              0.6666666666666666,
              "#ed7953"
             ],
             [
              0.7777777777777778,
              "#fb9f3a"
             ],
             [
              0.8888888888888888,
              "#fdca26"
             ],
             [
              1,
              "#f0f921"
             ]
            ],
            "type": "contour"
           }
          ],
          "contourcarpet": [
           {
            "colorbar": {
             "outlinewidth": 0,
             "ticks": ""
            },
            "type": "contourcarpet"
           }
          ],
          "heatmap": [
           {
            "colorbar": {
             "outlinewidth": 0,
             "ticks": ""
            },
            "colorscale": [
             [
              0,
              "#0d0887"
             ],
             [
              0.1111111111111111,
              "#46039f"
             ],
             [
              0.2222222222222222,
              "#7201a8"
             ],
             [
              0.3333333333333333,
              "#9c179e"
             ],
             [
              0.4444444444444444,
              "#bd3786"
             ],
             [
              0.5555555555555556,
              "#d8576b"
             ],
             [
              0.6666666666666666,
              "#ed7953"
             ],
             [
              0.7777777777777778,
              "#fb9f3a"
             ],
             [
              0.8888888888888888,
              "#fdca26"
             ],
             [
              1,
              "#f0f921"
             ]
            ],
            "type": "heatmap"
           }
          ],
          "heatmapgl": [
           {
            "colorbar": {
             "outlinewidth": 0,
             "ticks": ""
            },
            "colorscale": [
             [
              0,
              "#0d0887"
             ],
             [
              0.1111111111111111,
              "#46039f"
             ],
             [
              0.2222222222222222,
              "#7201a8"
             ],
             [
              0.3333333333333333,
              "#9c179e"
             ],
             [
              0.4444444444444444,
              "#bd3786"
             ],
             [
              0.5555555555555556,
              "#d8576b"
             ],
             [
              0.6666666666666666,
              "#ed7953"
             ],
             [
              0.7777777777777778,
              "#fb9f3a"
             ],
             [
              0.8888888888888888,
              "#fdca26"
             ],
             [
              1,
              "#f0f921"
             ]
            ],
            "type": "heatmapgl"
           }
          ],
          "histogram": [
           {
            "marker": {
             "pattern": {
              "fillmode": "overlay",
              "size": 10,
              "solidity": 0.2
             }
            },
            "type": "histogram"
           }
          ],
          "histogram2d": [
           {
            "colorbar": {
             "outlinewidth": 0,
             "ticks": ""
            },
            "colorscale": [
             [
              0,
              "#0d0887"
             ],
             [
              0.1111111111111111,
              "#46039f"
             ],
             [
              0.2222222222222222,
              "#7201a8"
             ],
             [
              0.3333333333333333,
              "#9c179e"
             ],
             [
              0.4444444444444444,
              "#bd3786"
             ],
             [
              0.5555555555555556,
              "#d8576b"
             ],
             [
              0.6666666666666666,
              "#ed7953"
             ],
             [
              0.7777777777777778,
              "#fb9f3a"
             ],
             [
              0.8888888888888888,
              "#fdca26"
             ],
             [
              1,
              "#f0f921"
             ]
            ],
            "type": "histogram2d"
           }
          ],
          "histogram2dcontour": [
           {
            "colorbar": {
             "outlinewidth": 0,
             "ticks": ""
            },
            "colorscale": [
             [
              0,
              "#0d0887"
             ],
             [
              0.1111111111111111,
              "#46039f"
             ],
             [
              0.2222222222222222,
              "#7201a8"
             ],
             [
              0.3333333333333333,
              "#9c179e"
             ],
             [
              0.4444444444444444,
              "#bd3786"
             ],
             [
              0.5555555555555556,
              "#d8576b"
             ],
             [
              0.6666666666666666,
              "#ed7953"
             ],
             [
              0.7777777777777778,
              "#fb9f3a"
             ],
             [
              0.8888888888888888,
              "#fdca26"
             ],
             [
              1,
              "#f0f921"
             ]
            ],
            "type": "histogram2dcontour"
           }
          ],
          "mesh3d": [
           {
            "colorbar": {
             "outlinewidth": 0,
             "ticks": ""
            },
            "type": "mesh3d"
           }
          ],
          "parcoords": [
           {
            "line": {
             "colorbar": {
              "outlinewidth": 0,
              "ticks": ""
             }
            },
            "type": "parcoords"
           }
          ],
          "pie": [
           {
            "automargin": true,
            "type": "pie"
           }
          ],
          "scatter": [
           {
            "fillpattern": {
             "fillmode": "overlay",
             "size": 10,
             "solidity": 0.2
            },
            "type": "scatter"
           }
          ],
          "scatter3d": [
           {
            "line": {
             "colorbar": {
              "outlinewidth": 0,
              "ticks": ""
             }
            },
            "marker": {
             "colorbar": {
              "outlinewidth": 0,
              "ticks": ""
             }
            },
            "type": "scatter3d"
           }
          ],
          "scattercarpet": [
           {
            "marker": {
             "colorbar": {
              "outlinewidth": 0,
              "ticks": ""
             }
            },
            "type": "scattercarpet"
           }
          ],
          "scattergeo": [
           {
            "marker": {
             "colorbar": {
              "outlinewidth": 0,
              "ticks": ""
             }
            },
            "type": "scattergeo"
           }
          ],
          "scattergl": [
           {
            "marker": {
             "colorbar": {
              "outlinewidth": 0,
              "ticks": ""
             }
            },
            "type": "scattergl"
           }
          ],
          "scattermapbox": [
           {
            "marker": {
             "colorbar": {
              "outlinewidth": 0,
              "ticks": ""
             }
            },
            "type": "scattermapbox"
           }
          ],
          "scatterpolar": [
           {
            "marker": {
             "colorbar": {
              "outlinewidth": 0,
              "ticks": ""
             }
            },
            "type": "scatterpolar"
           }
          ],
          "scatterpolargl": [
           {
            "marker": {
             "colorbar": {
              "outlinewidth": 0,
              "ticks": ""
             }
            },
            "type": "scatterpolargl"
           }
          ],
          "scatterternary": [
           {
            "marker": {
             "colorbar": {
              "outlinewidth": 0,
              "ticks": ""
             }
            },
            "type": "scatterternary"
           }
          ],
          "surface": [
           {
            "colorbar": {
             "outlinewidth": 0,
             "ticks": ""
            },
            "colorscale": [
             [
              0,
              "#0d0887"
             ],
             [
              0.1111111111111111,
              "#46039f"
             ],
             [
              0.2222222222222222,
              "#7201a8"
             ],
             [
              0.3333333333333333,
              "#9c179e"
             ],
             [
              0.4444444444444444,
              "#bd3786"
             ],
             [
              0.5555555555555556,
              "#d8576b"
             ],
             [
              0.6666666666666666,
              "#ed7953"
             ],
             [
              0.7777777777777778,
              "#fb9f3a"
             ],
             [
              0.8888888888888888,
              "#fdca26"
             ],
             [
              1,
              "#f0f921"
             ]
            ],
            "type": "surface"
           }
          ],
          "table": [
           {
            "cells": {
             "fill": {
              "color": "#EBF0F8"
             },
             "line": {
              "color": "white"
             }
            },
            "header": {
             "fill": {
              "color": "#C8D4E3"
             },
             "line": {
              "color": "white"
             }
            },
            "type": "table"
           }
          ]
         },
         "layout": {
          "annotationdefaults": {
           "arrowcolor": "#2a3f5f",
           "arrowhead": 0,
           "arrowwidth": 1
          },
          "autotypenumbers": "strict",
          "coloraxis": {
           "colorbar": {
            "outlinewidth": 0,
            "ticks": ""
           }
          },
          "colorscale": {
           "diverging": [
            [
             0,
             "#8e0152"
            ],
            [
             0.1,
             "#c51b7d"
            ],
            [
             0.2,
             "#de77ae"
            ],
            [
             0.3,
             "#f1b6da"
            ],
            [
             0.4,
             "#fde0ef"
            ],
            [
             0.5,
             "#f7f7f7"
            ],
            [
             0.6,
             "#e6f5d0"
            ],
            [
             0.7,
             "#b8e186"
            ],
            [
             0.8,
             "#7fbc41"
            ],
            [
             0.9,
             "#4d9221"
            ],
            [
             1,
             "#276419"
            ]
           ],
           "sequential": [
            [
             0,
             "#0d0887"
            ],
            [
             0.1111111111111111,
             "#46039f"
            ],
            [
             0.2222222222222222,
             "#7201a8"
            ],
            [
             0.3333333333333333,
             "#9c179e"
            ],
            [
             0.4444444444444444,
             "#bd3786"
            ],
            [
             0.5555555555555556,
             "#d8576b"
            ],
            [
             0.6666666666666666,
             "#ed7953"
            ],
            [
             0.7777777777777778,
             "#fb9f3a"
            ],
            [
             0.8888888888888888,
             "#fdca26"
            ],
            [
             1,
             "#f0f921"
            ]
           ],
           "sequentialminus": [
            [
             0,
             "#0d0887"
            ],
            [
             0.1111111111111111,
             "#46039f"
            ],
            [
             0.2222222222222222,
             "#7201a8"
            ],
            [
             0.3333333333333333,
             "#9c179e"
            ],
            [
             0.4444444444444444,
             "#bd3786"
            ],
            [
             0.5555555555555556,
             "#d8576b"
            ],
            [
             0.6666666666666666,
             "#ed7953"
            ],
            [
             0.7777777777777778,
             "#fb9f3a"
            ],
            [
             0.8888888888888888,
             "#fdca26"
            ],
            [
             1,
             "#f0f921"
            ]
           ]
          },
          "colorway": [
           "#636efa",
           "#EF553B",
           "#00cc96",
           "#ab63fa",
           "#FFA15A",
           "#19d3f3",
           "#FF6692",
           "#B6E880",
           "#FF97FF",
           "#FECB52"
          ],
          "font": {
           "color": "#2a3f5f"
          },
          "geo": {
           "bgcolor": "white",
           "lakecolor": "white",
           "landcolor": "#E5ECF6",
           "showlakes": true,
           "showland": true,
           "subunitcolor": "white"
          },
          "hoverlabel": {
           "align": "left"
          },
          "hovermode": "closest",
          "mapbox": {
           "style": "light"
          },
          "paper_bgcolor": "white",
          "plot_bgcolor": "#E5ECF6",
          "polar": {
           "angularaxis": {
            "gridcolor": "white",
            "linecolor": "white",
            "ticks": ""
           },
           "bgcolor": "#E5ECF6",
           "radialaxis": {
            "gridcolor": "white",
            "linecolor": "white",
            "ticks": ""
           }
          },
          "scene": {
           "xaxis": {
            "backgroundcolor": "#E5ECF6",
            "gridcolor": "white",
            "gridwidth": 2,
            "linecolor": "white",
            "showbackground": true,
            "ticks": "",
            "zerolinecolor": "white"
           },
           "yaxis": {
            "backgroundcolor": "#E5ECF6",
            "gridcolor": "white",
            "gridwidth": 2,
            "linecolor": "white",
            "showbackground": true,
            "ticks": "",
            "zerolinecolor": "white"
           },
           "zaxis": {
            "backgroundcolor": "#E5ECF6",
            "gridcolor": "white",
            "gridwidth": 2,
            "linecolor": "white",
            "showbackground": true,
            "ticks": "",
            "zerolinecolor": "white"
           }
          },
          "shapedefaults": {
           "line": {
            "color": "#2a3f5f"
           }
          },
          "ternary": {
           "aaxis": {
            "gridcolor": "white",
            "linecolor": "white",
            "ticks": ""
           },
           "baxis": {
            "gridcolor": "white",
            "linecolor": "white",
            "ticks": ""
           },
           "bgcolor": "#E5ECF6",
           "caxis": {
            "gridcolor": "white",
            "linecolor": "white",
            "ticks": ""
           }
          },
          "title": {
           "x": 0.05
          },
          "xaxis": {
           "automargin": true,
           "gridcolor": "white",
           "linecolor": "white",
           "ticks": "",
           "title": {
            "standoff": 15
           },
           "zerolinecolor": "white",
           "zerolinewidth": 2
          },
          "yaxis": {
           "automargin": true,
           "gridcolor": "white",
           "linecolor": "white",
           "ticks": "",
           "title": {
            "standoff": 15
           },
           "zerolinecolor": "white",
           "zerolinewidth": 2
          }
         }
        },
        "width": 500,
        "xaxis": {
         "autorange": false,
         "exponentformat": "e",
         "linecolor": "black",
         "linewidth": 1,
         "mirror": false,
         "range": [
          -0.035057787895202634,
          1.7879471826553344
         ],
         "showexponent": "all",
         "showline": true,
         "side": "bottom",
         "ticks": "outside",
         "title": {
          "text": "Birth"
         },
         "type": "linear",
         "zeroline": true
        },
        "yaxis": {
         "autorange": false,
         "exponentformat": "e",
         "linecolor": "black",
         "linewidth": 1,
         "mirror": false,
         "range": [
          -0.035057787895202634,
          1.7879471826553344
         ],
         "scaleanchor": "x",
         "scaleratio": 1,
         "showexponent": "all",
         "showline": true,
         "side": "left",
         "ticks": "outside",
         "title": {
          "text": "Death"
         },
         "type": "linear",
         "zeroline": true
        }
       }
      }
     },
<<<<<<< HEAD
=======
     "execution_count": 8,
>>>>>>> 6fb28a4e87cfa384d9130d42c06d55fc18392d19
     "metadata": {},
     "output_type": "display_data"
    }
   ],
   "source": [
    "Z = X.fit(50,1)\n",
    "plot_diagram(Z[0])"
   ]
  },
  {
   "cell_type": "code",
<<<<<<< HEAD
   "execution_count": 13,
=======
   "execution_count": 34,
   "metadata": {},
   "outputs": [],
   "source": [
    "x = X.sample(3)"
   ]
  },
  {
   "cell_type": "code",
   "execution_count": 35,
>>>>>>> 6fb28a4e87cfa384d9130d42c06d55fc18392d19
   "metadata": {},
   "outputs": [
    {
     "data": {
      "text/plain": [
<<<<<<< HEAD
       "array([[0.        , 0.07469841, 0.        ],\n",
       "       [0.        , 0.12457232, 0.        ],\n",
       "       [0.        , 0.19574654, 0.        ],\n",
       "       [0.        , 0.29983893, 0.        ],\n",
       "       [0.        , 0.33651406, 0.        ],\n",
       "       [0.        , 0.34711063, 0.        ],\n",
       "       [0.        , 0.34842065, 0.        ],\n",
       "       [0.        , 0.37193304, 0.        ],\n",
       "       [0.        , 0.37720942, 0.        ],\n",
       "       [0.        , 0.39080644, 0.        ],\n",
       "       [0.        , 0.4115766 , 0.        ],\n",
       "       [0.        , 0.41913256, 0.        ],\n",
       "       [0.        , 0.42144272, 0.        ],\n",
       "       [0.        , 0.42175999, 0.        ],\n",
       "       [0.        , 0.4268927 , 0.        ],\n",
       "       [0.        , 0.45514101, 0.        ],\n",
       "       [0.        , 0.46095973, 0.        ],\n",
       "       [0.        , 0.46957096, 0.        ],\n",
       "       [0.        , 0.48652062, 0.        ],\n",
       "       [0.        , 0.48665977, 0.        ],\n",
       "       [0.        , 0.49735025, 0.        ],\n",
       "       [0.        , 0.49873701, 0.        ],\n",
       "       [0.        , 0.5123421 , 0.        ],\n",
       "       [0.        , 0.51384687, 0.        ],\n",
       "       [0.        , 0.51491272, 0.        ],\n",
       "       [0.        , 0.5168643 , 0.        ],\n",
       "       [0.        , 0.5401113 , 0.        ],\n",
       "       [0.        , 0.54323435, 0.        ],\n",
       "       [0.        , 0.55063713, 0.        ],\n",
       "       [0.        , 0.56251508, 0.        ],\n",
       "       [0.        , 0.56669807, 0.        ],\n",
       "       [0.        , 0.58260268, 0.        ],\n",
       "       [0.        , 0.58429879, 0.        ],\n",
       "       [0.        , 0.58634454, 0.        ],\n",
       "       [0.        , 0.58827883, 0.        ],\n",
       "       [0.        , 0.59290975, 0.        ],\n",
       "       [0.        , 0.60055453, 0.        ],\n",
       "       [0.        , 0.60102195, 0.        ],\n",
       "       [0.        , 0.60981232, 0.        ],\n",
       "       [0.        , 0.62354815, 0.        ],\n",
       "       [0.        , 0.63256282, 0.        ],\n",
       "       [0.        , 0.63955206, 0.        ],\n",
       "       [0.        , 0.64847344, 0.        ],\n",
       "       [0.        , 0.65118629, 0.        ],\n",
       "       [0.        , 0.65443051, 0.        ],\n",
       "       [0.        , 0.66557384, 0.        ],\n",
       "       [0.        , 0.67103505, 0.        ],\n",
       "       [0.        , 0.71563435, 0.        ],\n",
       "       [0.        , 0.74774301, 0.        ],\n",
       "       [1.0078547 , 1.04285777, 1.        ],\n",
       "       [0.92138302, 1.03608847, 1.        ],\n",
       "       [0.85544538, 1.13270378, 1.        ],\n",
       "       [0.83425093, 1.06851137, 1.        ],\n",
       "       [0.82004601, 0.8318885 , 1.        ],\n",
       "       [0.80487108, 0.91235781, 1.        ],\n",
       "       [0.7775104 , 0.85998207, 1.        ],\n",
       "       [0.77098823, 0.92525798, 1.        ],\n",
       "       [0.76791376, 1.00106299, 1.        ],\n",
       "       [0.76311177, 0.87585127, 1.        ],\n",
       "       [0.76116371, 1.12467849, 1.        ],\n",
       "       [0.75965887, 0.98959696, 1.        ],\n",
       "       [0.75164413, 0.77299666, 1.        ],\n",
       "       [0.74106717, 0.91822332, 1.        ],\n",
       "       [0.73787969, 0.9682706 , 1.        ],\n",
       "       [0.73588485, 0.7894547 , 1.        ],\n",
       "       [0.71608913, 0.89673293, 1.        ],\n",
       "       [0.70347917, 0.86874992, 1.        ],\n",
       "       [0.70236617, 0.94078928, 1.        ],\n",
       "       [0.68877172, 0.97712475, 1.        ],\n",
       "       [0.67705411, 0.89947927, 1.        ],\n",
       "       [1.20140994, 1.30386901, 2.        ],\n",
       "       [1.1958425 , 1.26595688, 2.        ],\n",
       "       [1.19130254, 1.20425391, 2.        ],\n",
       "       [1.17055655, 1.32482588, 2.        ],\n",
       "       [1.06195438, 1.08995676, 2.        ],\n",
       "       [1.04285777, 1.20356786, 2.        ],\n",
       "       [0.99295861, 1.00228524, 2.        ],\n",
       "       [1.45308614, 1.69784296, 3.        ],\n",
       "       [1.70559764, 1.72060776, 4.        ],\n",
       "       [1.70382726, 1.72123826, 4.        ],\n",
       "       [1.70377529, 1.72123826, 4.        ],\n",
       "       [1.70026743, 1.72060776, 4.        ],\n",
       "       [1.70020747, 1.75288939, 4.        ]])"
      ]
     },
     "execution_count": 13,
=======
       "array([[[ 0.15854341+1.52129106e-18j,  0.0708904 +8.74111933e-02j,\n",
       "         -0.1813381 -1.01109377e-01j, -0.27813283+1.66357520e-02j],\n",
       "        [ 0.0708904 -8.74111933e-02j,  0.07989084-6.03315543e-19j,\n",
       "         -0.13682828+5.47691945e-02j, -0.11519115+1.60783963e-01j],\n",
       "        [-0.1813381 +1.01109377e-01j, -0.13682828-5.47691945e-02j,\n",
       "          0.27189154-4.25408998e-18j,  0.30751229-1.96403828e-01j],\n",
       "        [-0.27813283-1.66357520e-02j, -0.11519115-1.60783963e-01j,\n",
       "          0.30751229+1.96403828e-01j,  0.48967422-2.27655266e-18j]],\n",
       "\n",
       "       [[ 0.25830572-6.77055663e-18j, -0.27718038-6.92732762e-02j,\n",
       "          0.11608844+2.80074695e-02j, -0.0585632 -3.03752415e-01j],\n",
       "        [-0.27718038+6.92732762e-02j,  0.31601217+5.72220547e-18j,\n",
       "         -0.13208228+1.07897521e-03j,  0.1443038 +3.10242246e-01j],\n",
       "        [ 0.11608844-2.80074695e-02j, -0.13208228-1.07897521e-03j,\n",
       "          0.05520956-1.38068844e-18j, -0.05925478-1.30163348e-01j],\n",
       "        [-0.0585632 +3.03752415e-01j,  0.1443038 -3.10242246e-01j,\n",
       "         -0.05925478+1.30163348e-01j,  0.37047255-1.11811915e-18j]],\n",
       "\n",
       "       [[ 0.14841274+1.97589095e-18j, -0.07591171+1.08433314e-01j,\n",
       "          0.15480579-1.47593017e-01j, -0.0365712 -2.48555918e-01j],\n",
       "        [-0.07591171-1.08433314e-01j,  0.11805166-1.10706691e-18j,\n",
       "         -0.1870161 -3.76117828e-02j, -0.1628941 +1.53853634e-01j],\n",
       "        [ 0.15480579+1.47593017e-01j, -0.1870161 +3.76117828e-02j,\n",
       "          0.30825206-1.96305286e-18j,  0.20903653-2.95631959e-01j],\n",
       "        [-0.0365712 +2.48555918e-01j, -0.1628941 -1.53853634e-01j,\n",
       "          0.20903653+2.95631959e-01j,  0.42528354+8.11797664e-18j]]])"
      ]
     },
     "execution_count": 35,
>>>>>>> 6fb28a4e87cfa384d9130d42c06d55fc18392d19
     "metadata": {},
     "output_type": "execute_result"
    }
   ],
   "source": [
    "Z[0]"
   ]
  },
  {
   "cell_type": "code",
<<<<<<< HEAD
   "execution_count": 6,
=======
   "execution_count": 11,
>>>>>>> 6fb28a4e87cfa384d9130d42c06d55fc18392d19
   "metadata": {},
   "outputs": [
    {
     "data": {
<<<<<<< HEAD
      "application/vnd.plotly.v1+json": {
       "config": {
        "plotlyServerURL": "https://plot.ly"
       },
       "data": [
        {
         "hoverinfo": "none",
         "line": {
          "color": "black",
          "dash": "dash",
          "width": 1
         },
         "mode": "lines",
         "showlegend": false,
         "type": "scatter",
         "x": [
          -0.034669997692108157,
          1.7681698822975158
         ],
         "y": [
          -0.034669997692108157,
          1.7681698822975158
         ]
        },
        {
         "hoverinfo": "text",
         "hovertext": [
          "(0.0, 0.14045481383800507)",
          "(0.0, 0.20103272795677185)",
          "(0.0, 0.23976530134677887)",
          "(0.0, 0.24508444964885712)",
          "(0.0, 0.2525652050971985)",
          "(0.0, 0.26000770926475525)",
          "(0.0, 0.28524842858314514)",
          "(0.0, 0.2970673143863678)",
          "(0.0, 0.29879269003868103)",
          "(0.0, 0.3261858820915222)",
          "(0.0, 0.32992663979530334)",
          "(0.0, 0.34990450739860535)",
          "(0.0, 0.35910558700561523)",
          "(0.0, 0.36269888281822205)",
          "(0.0, 0.36673566699028015)",
          "(0.0, 0.37362179160118103)",
          "(0.0, 0.37490126490592957)",
          "(0.0, 0.3803374171257019)",
          "(0.0, 0.3871389925479889)",
          "(0.0, 0.3905685842037201)",
          "(0.0, 0.39223727583885193)",
          "(0.0, 0.4182015061378479)",
          "(0.0, 0.42416682839393616)",
          "(0.0, 0.4280352294445038)",
          "(0.0, 0.4289274513721466)",
          "(0.0, 0.4611854553222656)",
          "(0.0, 0.4615943431854248)",
          "(0.0, 0.46682974696159363)",
          "(0.0, 0.47524115443229675)",
          "(0.0, 0.4923571050167084)",
          "(0.0, 0.5113962292671204)",
          "(0.0, 0.5122952461242676)",
          "(0.0, 0.5304387211799622)",
          "(0.0, 0.5322164297103882)",
          "(0.0, 0.5368523001670837)",
          "(0.0, 0.5554051399230957)",
          "(0.0, 0.5663697719573975)",
          "(0.0, 0.5730855464935303)",
          "(0.0, 0.5805415511131287)",
          "(0.0, 0.5809940695762634)",
          "(0.0, 0.5838139653205872)",
          "(0.0, 0.5878645777702332)",
          "(0.0, 0.5962625741958618)",
          "(0.0, 0.6016359925270081)",
          "(0.0, 0.6338967084884644)",
          "(0.0, 0.6495357155799866)",
          "(0.0, 0.6713342070579529)",
          "(0.0, 0.675345778465271)",
          "(0.0, 0.6931676268577576)"
         ],
         "mode": "markers",
         "name": "H0",
         "type": "scatter",
         "x": [
          0,
          0,
          0,
          0,
          0,
          0,
          0,
          0,
          0,
          0,
          0,
          0,
          0,
          0,
          0,
          0,
          0,
          0,
          0,
          0,
          0,
          0,
          0,
          0,
          0,
          0,
          0,
          0,
          0,
          0,
          0,
          0,
          0,
          0,
          0,
          0,
          0,
          0,
          0,
          0,
          0,
          0,
          0,
          0,
          0,
          0,
          0,
          0,
          0
         ],
         "y": [
          0.14045481383800507,
          0.20103272795677185,
          0.23976530134677887,
          0.24508444964885712,
          0.2525652050971985,
          0.26000770926475525,
          0.28524842858314514,
          0.2970673143863678,
          0.29879269003868103,
          0.3261858820915222,
          0.32992663979530334,
          0.34990450739860535,
          0.35910558700561523,
          0.36269888281822205,
          0.36673566699028015,
          0.37362179160118103,
          0.37490126490592957,
          0.3803374171257019,
          0.3871389925479889,
          0.3905685842037201,
          0.39223727583885193,
          0.4182015061378479,
          0.42416682839393616,
          0.4280352294445038,
          0.4289274513721466,
          0.4611854553222656,
          0.4615943431854248,
          0.46682974696159363,
          0.47524115443229675,
          0.4923571050167084,
          0.5113962292671204,
          0.5122952461242676,
          0.5304387211799622,
          0.5322164297103882,
          0.5368523001670837,
          0.5554051399230957,
          0.5663697719573975,
          0.5730855464935303,
          0.5805415511131287,
          0.5809940695762634,
          0.5838139653205872,
          0.5878645777702332,
          0.5962625741958618,
          0.6016359925270081,
          0.6338967084884644,
          0.6495357155799866,
          0.6713342070579529,
          0.675345778465271,
          0.6931676268577576
         ]
        },
        {
         "hoverinfo": "text",
         "hovertext": [
          "(1.0133217573165894, 1.034939169883728)",
          "(0.9544579982757568, 0.96061110496521)",
          "(0.9042983055114746, 0.9912117123603821)",
          "(0.8046042919158936, 0.8695505857467651)",
          "(0.7972139120101929, 0.8026440739631653)",
          "(0.7783786654472351, 0.9353185892105103)",
          "(0.7638645172119141, 0.8524860739707947)",
          "(0.7597137689590454, 0.8843736052513123)",
          "(0.7522540092468262, 1.0929157733917236)",
          "(0.7363115549087524, 1.0341001749038696)",
          "(0.7331405282020569, 0.902126669883728)",
          "(0.7283110022544861, 0.8595172166824341)",
          "(0.7227559685707092, 0.8218314051628113)",
          "(0.7173722386360168, 0.7444339394569397)",
          "(0.7022411227226257, 0.7739071249961853)",
          "(0.6992813944816589, 0.8960354924201965)",
          "(0.6128752827644348, 0.6262887716293335)",
          "(0.6048302054405212, 0.6212959885597229)",
          "(0.5159273147583008, 0.5402829647064209)"
         ],
         "mode": "markers",
         "name": "H1",
         "type": "scatter",
         "x": [
          1.0133217573165894,
          0.9544579982757568,
          0.9042983055114746,
          0.8046042919158936,
          0.7972139120101929,
          0.7783786654472351,
          0.7638645172119141,
          0.7597137689590454,
          0.7522540092468262,
          0.7363115549087524,
          0.7331405282020569,
          0.7283110022544861,
          0.7227559685707092,
          0.7173722386360168,
          0.7022411227226257,
          0.6992813944816589,
          0.6128752827644348,
          0.6048302054405212,
          0.5159273147583008
         ],
         "y": [
          1.034939169883728,
          0.96061110496521,
          0.9912117123603821,
          0.8695505857467651,
          0.8026440739631653,
          0.9353185892105103,
          0.8524860739707947,
          0.8843736052513123,
          1.0929157733917236,
          1.0341001749038696,
          0.902126669883728,
          0.8595172166824341,
          0.8218314051628113,
          0.7444339394569397,
          0.7739071249961853,
          0.8960354924201965,
          0.6262887716293335,
          0.6212959885597229,
          0.5402829647064209
         ]
        },
        {
         "hoverinfo": "text",
         "hovertext": [
          "(1.4274522066116333, 1.4659596681594849)",
          "(1.3453214168548584, 1.373163104057312)",
          "(1.2884055376052856, 1.4524465799331665)"
         ],
         "mode": "markers",
         "name": "H2",
         "type": "scatter",
         "x": [
          1.4274522066116333,
          1.3453214168548584,
          1.2884055376052856
         ],
         "y": [
          1.4659596681594849,
          1.373163104057312,
          1.4524465799331665
         ]
        },
        {
         "hoverinfo": "text",
         "hovertext": [
          "(1.5568974018096924, 1.6822590827941895)"
         ],
         "mode": "markers",
         "name": "H3",
         "type": "scatter",
         "x": [
          1.5568974018096924
         ],
         "y": [
          1.6822590827941895
         ]
        },
        {
         "hoverinfo": "text",
         "hovertext": [
          "(1.6975399255752563, 1.7334998846054077)",
          "(1.6902586221694946, 1.7070072889328003)"
         ],
         "mode": "markers",
         "name": "H4",
         "type": "scatter",
         "x": [
          1.6975399255752563,
          1.6902586221694946
         ],
         "y": [
          1.7334998846054077,
          1.7070072889328003
         ]
        }
       ],
       "layout": {
        "height": 500,
        "plot_bgcolor": "white",
        "template": {
         "data": {
          "bar": [
           {
            "error_x": {
             "color": "#2a3f5f"
            },
            "error_y": {
             "color": "#2a3f5f"
            },
            "marker": {
             "line": {
              "color": "#E5ECF6",
              "width": 0.5
             },
             "pattern": {
              "fillmode": "overlay",
              "size": 10,
              "solidity": 0.2
             }
            },
            "type": "bar"
           }
          ],
          "barpolar": [
           {
            "marker": {
             "line": {
              "color": "#E5ECF6",
              "width": 0.5
             },
             "pattern": {
              "fillmode": "overlay",
              "size": 10,
              "solidity": 0.2
             }
            },
            "type": "barpolar"
           }
          ],
          "carpet": [
           {
            "aaxis": {
             "endlinecolor": "#2a3f5f",
             "gridcolor": "white",
             "linecolor": "white",
             "minorgridcolor": "white",
             "startlinecolor": "#2a3f5f"
            },
            "baxis": {
             "endlinecolor": "#2a3f5f",
             "gridcolor": "white",
             "linecolor": "white",
             "minorgridcolor": "white",
             "startlinecolor": "#2a3f5f"
            },
            "type": "carpet"
           }
          ],
          "choropleth": [
           {
            "colorbar": {
             "outlinewidth": 0,
             "ticks": ""
            },
            "type": "choropleth"
           }
          ],
          "contour": [
           {
            "colorbar": {
             "outlinewidth": 0,
             "ticks": ""
            },
            "colorscale": [
             [
              0,
              "#0d0887"
             ],
             [
              0.1111111111111111,
              "#46039f"
             ],
             [
              0.2222222222222222,
              "#7201a8"
             ],
             [
              0.3333333333333333,
              "#9c179e"
             ],
             [
              0.4444444444444444,
              "#bd3786"
             ],
             [
              0.5555555555555556,
              "#d8576b"
             ],
             [
              0.6666666666666666,
              "#ed7953"
             ],
             [
              0.7777777777777778,
              "#fb9f3a"
             ],
             [
              0.8888888888888888,
              "#fdca26"
             ],
             [
              1,
              "#f0f921"
             ]
            ],
            "type": "contour"
           }
          ],
          "contourcarpet": [
           {
            "colorbar": {
             "outlinewidth": 0,
             "ticks": ""
            },
            "type": "contourcarpet"
           }
          ],
          "heatmap": [
           {
            "colorbar": {
             "outlinewidth": 0,
             "ticks": ""
            },
            "colorscale": [
             [
              0,
              "#0d0887"
             ],
             [
              0.1111111111111111,
              "#46039f"
             ],
             [
              0.2222222222222222,
              "#7201a8"
             ],
             [
              0.3333333333333333,
              "#9c179e"
             ],
             [
              0.4444444444444444,
              "#bd3786"
             ],
             [
              0.5555555555555556,
              "#d8576b"
             ],
             [
              0.6666666666666666,
              "#ed7953"
             ],
             [
              0.7777777777777778,
              "#fb9f3a"
             ],
             [
              0.8888888888888888,
              "#fdca26"
             ],
             [
              1,
              "#f0f921"
             ]
            ],
            "type": "heatmap"
           }
          ],
          "heatmapgl": [
           {
            "colorbar": {
             "outlinewidth": 0,
             "ticks": ""
            },
            "colorscale": [
             [
              0,
              "#0d0887"
             ],
             [
              0.1111111111111111,
              "#46039f"
             ],
             [
              0.2222222222222222,
              "#7201a8"
             ],
             [
              0.3333333333333333,
              "#9c179e"
             ],
             [
              0.4444444444444444,
              "#bd3786"
             ],
             [
              0.5555555555555556,
              "#d8576b"
             ],
             [
              0.6666666666666666,
              "#ed7953"
             ],
             [
              0.7777777777777778,
              "#fb9f3a"
             ],
             [
              0.8888888888888888,
              "#fdca26"
             ],
             [
              1,
              "#f0f921"
             ]
            ],
            "type": "heatmapgl"
           }
          ],
          "histogram": [
           {
            "marker": {
             "pattern": {
              "fillmode": "overlay",
              "size": 10,
              "solidity": 0.2
             }
            },
            "type": "histogram"
           }
          ],
          "histogram2d": [
           {
            "colorbar": {
             "outlinewidth": 0,
             "ticks": ""
            },
            "colorscale": [
             [
              0,
              "#0d0887"
             ],
             [
              0.1111111111111111,
              "#46039f"
             ],
             [
              0.2222222222222222,
              "#7201a8"
             ],
             [
              0.3333333333333333,
              "#9c179e"
             ],
             [
              0.4444444444444444,
              "#bd3786"
             ],
             [
              0.5555555555555556,
              "#d8576b"
             ],
             [
              0.6666666666666666,
              "#ed7953"
             ],
             [
              0.7777777777777778,
              "#fb9f3a"
             ],
             [
              0.8888888888888888,
              "#fdca26"
             ],
             [
              1,
              "#f0f921"
             ]
            ],
            "type": "histogram2d"
           }
          ],
          "histogram2dcontour": [
           {
            "colorbar": {
             "outlinewidth": 0,
             "ticks": ""
            },
            "colorscale": [
             [
              0,
              "#0d0887"
             ],
             [
              0.1111111111111111,
              "#46039f"
             ],
             [
              0.2222222222222222,
              "#7201a8"
             ],
             [
              0.3333333333333333,
              "#9c179e"
             ],
             [
              0.4444444444444444,
              "#bd3786"
             ],
             [
              0.5555555555555556,
              "#d8576b"
             ],
             [
              0.6666666666666666,
              "#ed7953"
             ],
             [
              0.7777777777777778,
              "#fb9f3a"
             ],
             [
              0.8888888888888888,
              "#fdca26"
             ],
             [
              1,
              "#f0f921"
             ]
            ],
            "type": "histogram2dcontour"
           }
          ],
          "mesh3d": [
           {
            "colorbar": {
             "outlinewidth": 0,
             "ticks": ""
            },
            "type": "mesh3d"
           }
          ],
          "parcoords": [
           {
            "line": {
             "colorbar": {
              "outlinewidth": 0,
              "ticks": ""
             }
            },
            "type": "parcoords"
           }
          ],
          "pie": [
           {
            "automargin": true,
            "type": "pie"
           }
          ],
          "scatter": [
           {
            "fillpattern": {
             "fillmode": "overlay",
             "size": 10,
             "solidity": 0.2
            },
            "type": "scatter"
           }
          ],
          "scatter3d": [
           {
            "line": {
             "colorbar": {
              "outlinewidth": 0,
              "ticks": ""
             }
            },
            "marker": {
             "colorbar": {
              "outlinewidth": 0,
              "ticks": ""
             }
            },
            "type": "scatter3d"
           }
          ],
          "scattercarpet": [
           {
            "marker": {
             "colorbar": {
              "outlinewidth": 0,
              "ticks": ""
             }
            },
            "type": "scattercarpet"
           }
          ],
          "scattergeo": [
           {
            "marker": {
             "colorbar": {
              "outlinewidth": 0,
              "ticks": ""
             }
            },
            "type": "scattergeo"
           }
          ],
          "scattergl": [
           {
            "marker": {
             "colorbar": {
              "outlinewidth": 0,
              "ticks": ""
             }
            },
            "type": "scattergl"
           }
          ],
          "scattermapbox": [
           {
            "marker": {
             "colorbar": {
              "outlinewidth": 0,
              "ticks": ""
             }
            },
            "type": "scattermapbox"
           }
          ],
          "scatterpolar": [
           {
            "marker": {
             "colorbar": {
              "outlinewidth": 0,
              "ticks": ""
             }
            },
            "type": "scatterpolar"
           }
          ],
          "scatterpolargl": [
           {
            "marker": {
             "colorbar": {
              "outlinewidth": 0,
              "ticks": ""
             }
            },
            "type": "scatterpolargl"
           }
          ],
          "scatterternary": [
           {
            "marker": {
             "colorbar": {
              "outlinewidth": 0,
              "ticks": ""
             }
            },
            "type": "scatterternary"
           }
          ],
          "surface": [
           {
            "colorbar": {
             "outlinewidth": 0,
             "ticks": ""
            },
            "colorscale": [
             [
              0,
              "#0d0887"
             ],
             [
              0.1111111111111111,
              "#46039f"
             ],
             [
              0.2222222222222222,
              "#7201a8"
             ],
             [
              0.3333333333333333,
              "#9c179e"
             ],
             [
              0.4444444444444444,
              "#bd3786"
             ],
             [
              0.5555555555555556,
              "#d8576b"
             ],
             [
              0.6666666666666666,
              "#ed7953"
             ],
             [
              0.7777777777777778,
              "#fb9f3a"
             ],
             [
              0.8888888888888888,
              "#fdca26"
             ],
             [
              1,
              "#f0f921"
             ]
            ],
            "type": "surface"
           }
          ],
          "table": [
           {
            "cells": {
             "fill": {
              "color": "#EBF0F8"
             },
             "line": {
              "color": "white"
             }
            },
            "header": {
             "fill": {
              "color": "#C8D4E3"
             },
             "line": {
              "color": "white"
             }
            },
            "type": "table"
           }
          ]
         },
         "layout": {
          "annotationdefaults": {
           "arrowcolor": "#2a3f5f",
           "arrowhead": 0,
           "arrowwidth": 1
          },
          "autotypenumbers": "strict",
          "coloraxis": {
           "colorbar": {
            "outlinewidth": 0,
            "ticks": ""
           }
          },
          "colorscale": {
           "diverging": [
            [
             0,
             "#8e0152"
            ],
            [
             0.1,
             "#c51b7d"
            ],
            [
             0.2,
             "#de77ae"
            ],
            [
             0.3,
             "#f1b6da"
            ],
            [
             0.4,
             "#fde0ef"
            ],
            [
             0.5,
             "#f7f7f7"
            ],
            [
             0.6,
             "#e6f5d0"
            ],
            [
             0.7,
             "#b8e186"
            ],
            [
             0.8,
             "#7fbc41"
            ],
            [
             0.9,
             "#4d9221"
            ],
            [
             1,
             "#276419"
            ]
           ],
           "sequential": [
            [
             0,
             "#0d0887"
            ],
            [
             0.1111111111111111,
             "#46039f"
            ],
            [
             0.2222222222222222,
             "#7201a8"
            ],
            [
             0.3333333333333333,
             "#9c179e"
            ],
            [
             0.4444444444444444,
             "#bd3786"
            ],
            [
             0.5555555555555556,
             "#d8576b"
            ],
            [
             0.6666666666666666,
             "#ed7953"
            ],
            [
             0.7777777777777778,
             "#fb9f3a"
            ],
            [
             0.8888888888888888,
             "#fdca26"
            ],
            [
             1,
             "#f0f921"
            ]
           ],
           "sequentialminus": [
            [
             0,
             "#0d0887"
            ],
            [
             0.1111111111111111,
             "#46039f"
            ],
            [
             0.2222222222222222,
             "#7201a8"
            ],
            [
             0.3333333333333333,
             "#9c179e"
            ],
            [
             0.4444444444444444,
             "#bd3786"
            ],
            [
             0.5555555555555556,
             "#d8576b"
            ],
            [
             0.6666666666666666,
             "#ed7953"
            ],
            [
             0.7777777777777778,
             "#fb9f3a"
            ],
            [
             0.8888888888888888,
             "#fdca26"
            ],
            [
             1,
             "#f0f921"
            ]
           ]
          },
          "colorway": [
           "#636efa",
           "#EF553B",
           "#00cc96",
           "#ab63fa",
           "#FFA15A",
           "#19d3f3",
           "#FF6692",
           "#B6E880",
           "#FF97FF",
           "#FECB52"
          ],
          "font": {
           "color": "#2a3f5f"
          },
          "geo": {
           "bgcolor": "white",
           "lakecolor": "white",
           "landcolor": "#E5ECF6",
           "showlakes": true,
           "showland": true,
           "subunitcolor": "white"
          },
          "hoverlabel": {
           "align": "left"
          },
          "hovermode": "closest",
          "mapbox": {
           "style": "light"
          },
          "paper_bgcolor": "white",
          "plot_bgcolor": "#E5ECF6",
          "polar": {
           "angularaxis": {
            "gridcolor": "white",
            "linecolor": "white",
            "ticks": ""
           },
           "bgcolor": "#E5ECF6",
           "radialaxis": {
            "gridcolor": "white",
            "linecolor": "white",
            "ticks": ""
           }
          },
          "scene": {
           "xaxis": {
            "backgroundcolor": "#E5ECF6",
            "gridcolor": "white",
            "gridwidth": 2,
            "linecolor": "white",
            "showbackground": true,
            "ticks": "",
            "zerolinecolor": "white"
           },
           "yaxis": {
            "backgroundcolor": "#E5ECF6",
            "gridcolor": "white",
            "gridwidth": 2,
            "linecolor": "white",
            "showbackground": true,
            "ticks": "",
            "zerolinecolor": "white"
           },
           "zaxis": {
            "backgroundcolor": "#E5ECF6",
            "gridcolor": "white",
            "gridwidth": 2,
            "linecolor": "white",
            "showbackground": true,
            "ticks": "",
            "zerolinecolor": "white"
           }
          },
          "shapedefaults": {
           "line": {
            "color": "#2a3f5f"
           }
          },
          "ternary": {
           "aaxis": {
            "gridcolor": "white",
            "linecolor": "white",
            "ticks": ""
           },
           "baxis": {
            "gridcolor": "white",
            "linecolor": "white",
            "ticks": ""
           },
           "bgcolor": "#E5ECF6",
           "caxis": {
            "gridcolor": "white",
            "linecolor": "white",
            "ticks": ""
           }
          },
          "title": {
           "x": 0.05
          },
          "xaxis": {
           "automargin": true,
           "gridcolor": "white",
           "linecolor": "white",
           "ticks": "",
           "title": {
            "standoff": 15
           },
           "zerolinecolor": "white",
           "zerolinewidth": 2
          },
          "yaxis": {
           "automargin": true,
           "gridcolor": "white",
           "linecolor": "white",
           "ticks": "",
           "title": {
            "standoff": 15
           },
           "zerolinecolor": "white",
           "zerolinewidth": 2
          }
         }
        },
        "width": 500,
        "xaxis": {
         "autorange": false,
         "exponentformat": "e",
         "linecolor": "black",
         "linewidth": 1,
         "mirror": false,
         "range": [
          -0.034669997692108157,
          1.7681698822975158
         ],
         "showexponent": "all",
         "showline": true,
         "side": "bottom",
         "ticks": "outside",
         "title": {
          "text": "Birth"
         },
         "type": "linear",
         "zeroline": true
        },
        "yaxis": {
         "autorange": false,
         "exponentformat": "e",
         "linecolor": "black",
         "linewidth": 1,
         "mirror": false,
         "range": [
          -0.034669997692108157,
          1.7681698822975158
         ],
         "scaleanchor": "x",
         "scaleratio": 1,
         "showexponent": "all",
         "showline": true,
         "side": "left",
         "ticks": "outside",
         "title": {
          "text": "Death"
         },
         "type": "linear",
         "zeroline": true
        }
       }
      }
     },
     "metadata": {},
     "output_type": "display_data"
=======
      "text/plain": [
       "3.6399681661659405e-16"
      ]
     },
     "execution_count": 11,
     "metadata": {},
     "output_type": "execute_result"
    }
   ],
   "source": [
    "np.linalg.norm(x[0] @ x[0] - x[0]) "
   ]
  },
  {
   "cell_type": "code",
   "execution_count": 36,
   "metadata": {},
   "outputs": [],
   "source": [
    "d = 2\n",
    "n = 1\n",
    "x = np.random.randn(n, d) + 1j * np.random.randn(n, d)\n",
    "x /= np.linalg.norm(x, axis=1)[:, None]\n",
    "y = x.reshape(n,d,1) * np.conj(x.reshape(n, 1, d))\n"
   ]
  },
  {
   "cell_type": "code",
   "execution_count": 13,
   "metadata": {},
   "outputs": [
    {
     "data": {
      "text/plain": [
       "array([[ 0.22968231-0.17672857j, -0.85469184-0.43071442j]])"
      ]
     },
     "execution_count": 13,
     "metadata": {},
     "output_type": "execute_result"
    }
   ],
   "source": [
    "x"
   ]
  },
  {
   "cell_type": "code",
   "execution_count": 37,
   "metadata": {},
   "outputs": [
    {
     "data": {
      "text/plain": [
       "array([[[0.28094228+0.25047815j, 0.91368863+0.15331409j]]])"
      ]
     },
     "execution_count": 37,
     "metadata": {},
     "output_type": "execute_result"
    }
   ],
   "source": [
    "x1 = np.conj(x.reshape(n, 1, d))\n",
    "x1"
   ]
  },
  {
   "cell_type": "code",
   "execution_count": 38,
   "metadata": {},
   "outputs": [
    {
     "data": {
      "text/plain": [
       "array([[[0.14166787+5.50572026e-18j, 0.2950956 -1.85786628e-01j],\n",
       "        [0.2950956 +1.85786628e-01j, 0.85833213+3.12927904e-18j]]])"
      ]
     },
     "execution_count": 38,
     "metadata": {},
     "output_type": "execute_result"
    }
   ],
   "source": [
    "x1 * x.reshape(n,d,1)"
   ]
  },
  {
   "cell_type": "code",
   "execution_count": 16,
   "metadata": {},
   "outputs": [
    {
     "name": "stdout",
     "output_type": "stream",
     "text": [
      "(3, 2)\n",
      "[[1 2]\n",
      " [3 4]\n",
      " [5 6]]\n"
     ]
    }
   ],
   "source": [
    "a = np.array([[1,2],[3,4],[5,6]])\n",
    "print(a.shape)\n",
    "print(a)\n"
   ]
  },
  {
   "cell_type": "code",
   "execution_count": 17,
   "metadata": {},
   "outputs": [
    {
     "data": {
      "text/plain": [
       "array([[[1, 2]],\n",
       "\n",
       "       [[3, 4]],\n",
       "\n",
       "       [[5, 6]]])"
      ]
     },
     "execution_count": 17,
     "metadata": {},
     "output_type": "execute_result"
>>>>>>> 6fb28a4e87cfa384d9130d42c06d55fc18392d19
    }
   ],
   "source": [
    "\n"
   ]
  },
  {
   "cell_type": "code",
   "execution_count": 45,
   "metadata": {},
   "outputs": [
    {
     "name": "stdout",
     "output_type": "stream",
     "text": [
      "There are 36 point clouds in 3 dimensions, each with 100 points.\n"
     ]
    }
   ],
   "source": [
    "from gtda.generate_datasets import make_point_clouds\n",
    "n_samples_per_class = 12\n",
    "point_clouds, labels = make_point_clouds(n_samples_per_class, 10, 0.1)\n",
    "point_clouds.shape\n",
    "print(f\"There are {point_clouds.shape[0]} point clouds in {point_clouds.shape[2]} dimensions, \"\n",
    "      f\"each with {point_clouds.shape[1]} points.\")"
   ]
  },
  {
   "cell_type": "code",
   "execution_count": 56,
   "metadata": {},
   "outputs": [
    {
     "data": {
      "text/plain": [
       "(36, 171, 3)"
      ]
     },
     "execution_count": 56,
     "metadata": {},
     "output_type": "execute_result"
    }
   ],
   "source": [
    "from gtda.homology import VietorisRipsPersistence\n",
    "\n",
    "VR = VietorisRipsPersistence(homology_dimensions=[0,1,2])  # Parameter explained in the text\n",
    "diagrams = VR.fit_transform(point_clouds)\n",
    "diagrams.shape"
   ]
  },
  {
   "cell_type": "code",
   "execution_count": 181,
   "metadata": {},
   "outputs": [],
   "source": [
    "sphere = Sphere(dim=2)  # This has been defined in the prev\n",
    "\n",
    "# Generate 4 different samples of 70 points each on the sphere\n",
    "samples = [sphere.sample(300) for _ in range(4)]\n",
    "\n",
    "# Reshape each sample to add a batch dimension\n",
    "samples = [points.reshape(1, *points.shape) for points in samples]\n",
    "\n",
    "# Combine all samples into a single array with a batch dimension\n",
    "points = np.concatenate(samples, axis=0)"
   ]
  },
  {
   "cell_type": "code",
   "execution_count": 182,
   "metadata": {},
   "outputs": [
    {
     "data": {
      "text/plain": [
       "(4, 388, 3)"
      ]
     },
     "execution_count": 182,
     "metadata": {},
     "output_type": "execute_result"
    }
   ],
   "source": [
    "from gtda.homology import VietorisRipsPersistence\n",
    "\n",
    "VR = VietorisRipsPersistence(homology_dimensions=[0,1,2])  # Parameter explained in the text\n",
    "diagrams = VR.fit_transform(points)\n",
    "diagrams.shape"
   ]
  },
  {
   "cell_type": "code",
   "execution_count": 1,
   "metadata": {},
   "outputs": [
    {
     "ename": "NameError",
     "evalue": "name 'plt' is not defined",
     "output_type": "error",
     "traceback": [
      "\u001b[1;31m---------------------------------------------------------------------------\u001b[0m",
      "\u001b[1;31mNameError\u001b[0m                                 Traceback (most recent call last)",
      "Cell \u001b[1;32mIn[1], line 4\u001b[0m\n\u001b[0;32m      1\u001b[0m \u001b[38;5;28;01mfrom\u001b[39;00m \u001b[38;5;21;01mgtda\u001b[39;00m\u001b[38;5;21;01m.\u001b[39;00m\u001b[38;5;21;01mplotting\u001b[39;00m \u001b[38;5;28;01mimport\u001b[39;00m plot_diagram\n\u001b[0;32m      3\u001b[0m i \u001b[38;5;241m=\u001b[39m \u001b[38;5;241m3\u001b[39m\n\u001b[1;32m----> 4\u001b[0m fig, ax \u001b[38;5;241m=\u001b[39m plt\u001b[38;5;241m.\u001b[39msubplots(\u001b[38;5;241m3\u001b[39m, \u001b[38;5;241m1\u001b[39m)\n\u001b[0;32m      5\u001b[0m \u001b[38;5;28;01mfor\u001b[39;00m i \u001b[38;5;129;01min\u001b[39;00m \u001b[38;5;28mrange\u001b[39m(\u001b[38;5;241m3\u001b[39m):\n\u001b[0;32m      6\u001b[0m     plot_diagram(diagrams[i], ax\u001b[38;5;241m=\u001b[39max[i])\n",
      "\u001b[1;31mNameError\u001b[0m: name 'plt' is not defined"
     ]
    }
   ],
   "source": [
    "from gtda.plotting import plot_diagram\n",
    "\n",
    "i = 3\n",
    "fig, ax = plt.subplots(3, 1)\n",
    "for i in range(3):\n",
    "    plot_diagram(diagrams[i], ax=ax[i])\n"
   ]
  },
  {
   "cell_type": "code",
   "execution_count": null,
   "metadata": {},
   "outputs": [],
   "source": []
  }
 ],
 "metadata": {
  "kernelspec": {
   "display_name": "base",
   "language": "python",
   "name": "python3"
  },
  "language_info": {
   "codemirror_mode": {
    "name": "ipython",
    "version": 3
   },
   "file_extension": ".py",
   "mimetype": "text/x-python",
   "name": "python",
   "nbconvert_exporter": "python",
   "pygments_lexer": "ipython3",
   "version": "3.12.4"
  }
 },
 "nbformat": 4,
 "nbformat_minor": 2
}
