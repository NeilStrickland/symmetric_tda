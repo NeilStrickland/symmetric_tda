{
 "cells": [
  {
   "cell_type": "code",
   "execution_count": 11,
   "metadata": {},
   "outputs": [],
   "source": [
    "import numpy as np\n",
    "import gtda"
   ]
  },
  {
   "cell_type": "code",
   "execution_count": 58,
   "metadata": {},
   "outputs": [],
   "source": [
    "class Space:\n",
    "    \"\"\"\n",
    "    Create a space object with a name and an embedding dimension\n",
    "    \"\"\"\n",
    "    def __init__(self, name, edim):\n",
    "        self.name = name\n",
    "        self.edim = edim\n",
    "\n",
    "    def sample(self, n):\n",
    "        raise NotImplementedError()\n",
    "\n",
    "    def poincare_polynomial(self):\n",
    "        raise NotImplementedError()\n",
    "\n",
    "    def barcode(self):\n",
    "        raise NotImplementedError()"
   ]
  },
  {
   "cell_type": "code",
   "execution_count": 59,
   "metadata": {},
   "outputs": [],
   "source": [
    "class Sphere(Space):\n",
    "    def __init__(self, dim):\n",
    "        \"\"\"\n",
    "        Create a sphere of dimension dim.  This is the set of unit vectors \n",
    "        in R ^(dim + 1), so the embedding dimension is dim+1.\n",
    "        \"\"\"\n",
    "        self.dim = dim\n",
    "        super().__init__('S^{' + str(dim) + '}', dim+1)\n",
    "\n",
    "    def sample(self, n):\n",
    "        \"\"\"\n",
    "        Returns a numpy matrix of shape n x edim, where each row is a\n",
    "        random point on the sphere.  To do this, we generate a matrix\n",
    "        of shape n x edim of standard normal random variables, and then\n",
    "        normalize each row to have unit length.\n",
    "        \"\"\"\n",
    "        x = np.random.randn(n, self.edim)\n",
    "        x /= np.linalg.norm(x, axis=1)[:, None]\n",
    "        return x\n",
    "\n",
    "    def poincare_polynomial(self):\n",
    "        \"\"\"\n",
    "        This returns the correct answer for the Poincare polynomial \n",
    "        of the sphere, represented as an integer-valued numpy array.\n",
    "        The i-th entry is the coefficient of t^i, which is the rank\n",
    "        of the i-th homology group.  In the case of the sphere, the\n",
    "        Poincare polynomial is 1 + t^dim.\n",
    "        \"\"\"\n",
    "        p = np.zeros(self.dim+1, dtype=int)\n",
    "        p[0] = 1\n",
    "        p[self.dim] = 1\n",
    "        return p\n"
   ]
  },
  {
   "cell_type": "code",
   "execution_count": 62,
   "metadata": {},
   "outputs": [],
   "source": [
    "class ComplexProjectiveSpace(Space):\n",
    "    def __init__(self, cdim):\n",
    "        self.cdim = cdim\n",
    "        super().__init__('CP^{' + str(cdim) + '}', (cdim+1) ** 2)\n",
    "\n",
    "    def sample(self, n):\n",
    "        d = self.cdim+1\n",
    "        x = np.random.randn(n, d) + 1j * np.random.randn(n, d)\n",
    "        x /= np.linalg.norm(x, axis=1)[:, None]\n",
    "        return x.reshape(n,d,1) * np.conj(x.reshape(n, 1, d))\n",
    "\n",
    "    def poincare_polynomial(self):\n",
    "        d = self.cdim\n",
    "        p = np.zeros(2*d + 2, dtype=int)\n",
    "        p[0::2] = 1\n",
    "        return p"
   ]
  },
  {
   "cell_type": "code",
   "execution_count": 61,
   "metadata": {},
   "outputs": [
    {
     "name": "stdout",
     "output_type": "stream",
     "text": [
      "S^{4}\n",
      "4\n",
      "5\n"
     ]
    }
   ],
   "source": [
    "X = Sphere(4)\n",
    "print(X.name)\n",
    "print(X.dim)\n",
    "print(X.edim)"
   ]
  },
  {
   "cell_type": "code",
   "execution_count": 68,
   "metadata": {},
   "outputs": [
    {
     "data": {
      "text/plain": [
       "'CP^{3}'"
      ]
     },
     "execution_count": 68,
     "metadata": {},
     "output_type": "execute_result"
    }
   ],
   "source": [
    "X = ComplexProjectiveSpace(3)\n",
    "X.name"
   ]
  },
  {
   "cell_type": "code",
   "execution_count": 70,
   "metadata": {},
   "outputs": [
    {
     "data": {
      "text/plain": [
       "3"
      ]
     },
     "execution_count": 70,
     "metadata": {},
     "output_type": "execute_result"
    }
   ],
   "source": [
    "X.cdim"
   ]
  },
  {
   "cell_type": "code",
   "execution_count": 71,
   "metadata": {},
   "outputs": [],
   "source": [
    "x = X.sample(2)"
   ]
  },
  {
   "cell_type": "code",
   "execution_count": 72,
   "metadata": {},
   "outputs": [
    {
     "data": {
      "text/plain": [
       "array([[[ 0.13980208+0.j        ,  0.01481653-0.21553376j,\n",
       "         -0.08568676+0.10532462j,  0.22377766-0.07121231j],\n",
       "        [ 0.01481653+0.21553376j,  0.33386005+0.j        ,\n",
       "         -0.1714609 -0.12094129j,  0.13350491+0.3374522j ],\n",
       "        [-0.08568676-0.10532462j, -0.1714609 +0.12094129j,\n",
       "          0.13186853+0.j        , -0.19080683-0.12494337j],\n",
       "        [ 0.22377766+0.07121231j,  0.13350491-0.3374522j ,\n",
       "         -0.19080683+0.12494337j,  0.39446933+0.j        ]],\n",
       "\n",
       "       [[ 0.82217591+0.j        ,  0.2144913 -0.23409549j,\n",
       "         -0.17393809-0.08990943j,  0.08361008+0.00816465j],\n",
       "        [ 0.2144913 +0.23409549j,  0.12261027+0.j        ,\n",
       "         -0.01977778-0.07298063j,  0.01948771+0.02593604j],\n",
       "        [-0.17393809+0.08990943j, -0.01977778+0.07298063j,\n",
       "          0.04663013+0.j        , -0.01858125+0.00741592j],\n",
       "        [ 0.08361008-0.00816465j,  0.01948771-0.02593604j,\n",
       "         -0.01858125-0.00741592j,  0.00858369+0.j        ]]])"
      ]
     },
     "execution_count": 72,
     "metadata": {},
     "output_type": "execute_result"
    }
   ],
   "source": [
    "x"
   ]
  },
  {
   "cell_type": "code",
   "execution_count": 56,
   "metadata": {},
   "outputs": [
    {
     "data": {
      "text/plain": [
       "3.813551952255812e-16"
      ]
     },
     "execution_count": 56,
     "metadata": {},
     "output_type": "execute_result"
    }
   ],
   "source": [
    "np.linalg.norm(x[0] @ x[0] - x[0])"
   ]
  },
  {
   "cell_type": "code",
   "execution_count": 47,
   "metadata": {},
   "outputs": [],
   "source": [
    "d = 2\n",
    "n = 1\n",
    "x = np.random.randn(n, d) + 1j * np.random.randn(n, d)\n",
    "x /= np.linalg.norm(x, axis=1)[:, None]\n",
    "y = x.reshape(n,d,1) * np.conj(x.reshape(n, 1, d))\n"
   ]
  },
  {
   "cell_type": "code",
   "execution_count": 36,
   "metadata": {},
   "outputs": [
    {
     "data": {
      "text/plain": [
       "array([[ 0.33683511+0.15294102j, -0.68767288-0.62470566j]])"
      ]
     },
     "execution_count": 36,
     "metadata": {},
     "output_type": "execute_result"
    }
   ],
   "source": [
    "x"
   ]
  },
  {
   "cell_type": "code",
   "execution_count": 43,
   "metadata": {},
   "outputs": [
    {
     "data": {
      "text/plain": [
       "array([[[ 0.33683511-0.15294102j, -0.68767288+0.62470566j]]])"
      ]
     },
     "execution_count": 43,
     "metadata": {},
     "output_type": "execute_result"
    }
   ],
   "source": [
    "x1 = np.conj(x.reshape(n, 1, d))\n",
    "x1"
   ]
  },
  {
   "cell_type": "code",
   "execution_count": 46,
   "metadata": {},
   "outputs": [
    {
     "data": {
      "text/plain": [
       "array([[[ 0.13684885+0.j        , -0.32717549+0.10524941j],\n",
       "        [-0.32717549-0.10524941j,  0.86315115+0.j        ]]])"
      ]
     },
     "execution_count": 46,
     "metadata": {},
     "output_type": "execute_result"
    }
   ],
   "source": [
    "x1 * x.reshape(n,d,1)"
   ]
  },
  {
   "cell_type": "code",
   "execution_count": 65,
   "metadata": {},
   "outputs": [
    {
     "name": "stdout",
     "output_type": "stream",
     "text": [
      "(3, 2)\n",
      "[[1 2]\n",
      " [3 4]\n",
      " [5 6]]\n"
     ]
    }
   ],
   "source": [
    "a = np.array([[1,2],[3,4],[5,6]])\n",
    "print(a.shape)\n",
    "print(a)"
   ]
  },
  {
   "cell_type": "code",
   "execution_count": 67,
   "metadata": {},
   "outputs": [
    {
     "data": {
      "text/plain": [
       "array([[[1, 2]],\n",
       "\n",
       "       [[3, 4]],\n",
       "\n",
       "       [[5, 6]]])"
      ]
     },
     "execution_count": 67,
     "metadata": {},
     "output_type": "execute_result"
    }
   ],
   "source": [
    "a.reshape(3,1,2)"
   ]
  },
  {
   "cell_type": "code",
   "execution_count": null,
   "metadata": {},
   "outputs": [],
   "source": []
  }
 ],
 "metadata": {
  "kernelspec": {
   "display_name": "Python 3",
   "language": "python",
   "name": "python3"
  },
  "language_info": {
   "codemirror_mode": {
    "name": "ipython",
    "version": 3
   },
   "file_extension": ".py",
   "mimetype": "text/x-python",
   "name": "python",
   "nbconvert_exporter": "python",
   "pygments_lexer": "ipython3",
   "version": "3.11.5"
  }
 },
 "nbformat": 4,
 "nbformat_minor": 2
}
