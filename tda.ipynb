{
 "cells": [
  {
   "cell_type": "code",
   "execution_count": 20,
   "metadata": {},
   "outputs": [],
   "source": [
    "import numpy as np\n",
    "import gtda\n",
    "import matplotlib.pyplot as plt\n",
    "from pathlib import Path #auxilliary module\n",
    "\n",
    "\n"
   ]
  },
  {
   "cell_type": "code",
   "execution_count": 27,
   "metadata": {},
   "outputs": [
    {
     "name": "stdout",
     "output_type": "stream",
     "text": [
      "There are 30 point clouds in 3 dimensions, each with 100 points.\n"
     ]
    }
   ],
   "source": [
    "import os\n",
    "\n",
    "import sys\n",
    "\n",
    "# Add the directory containing the 'data' folder to the Python path\n",
    "sys.path.append(r'C:\\Users\\Joe\\Documents\\University\\4th Year\\symmetric_tda\\gtda')\n"
   ]
  },
  {
   "cell_type": "code",
   "execution_count": 3,
   "metadata": {},
   "outputs": [],
   "source": [
    "class Space:\n",
    "    \"\"\"\n",
    "    Create a space object with a name and an embedding dimension\n",
    "    \"\"\"\n",
    "    def __init__(self, name, edim):\n",
    "        self.name = name\n",
    "        self.edim = edim\n",
    "\n",
    "    def sample(self, n):\n",
    "        raise NotImplementedError()\n",
    "\n",
    "    def poincare_polynomial(self):\n",
    "        raise NotImplementedError()\n",
    "\n",
    "    def barcode(self):\n",
    "        raise NotImplementedError()"
   ]
  },
  {
   "cell_type": "code",
   "execution_count": 4,
   "metadata": {},
   "outputs": [],
   "source": [
    "class Sphere(Space):\n",
    "    def __init__(self, dim):\n",
    "        \"\"\"\n",
    "        Create a sphere of dimension dim.  This is the set of unit vectors \n",
    "        in R ^(dim + 1), so the embedding dimension is dim+1.\n",
    "        \"\"\"\n",
    "        self.dim = dim\n",
    "        super().__init__('S^{' + str(dim) + '}', dim+1)\n",
    "\n",
    "    def sample(self, n):\n",
    "        \"\"\"\n",
    "        Returns a numpy matrix of shape n x edim, where each row is a\n",
    "        random point on the sphere.  To do this, we generate a matrix\n",
    "        of shape n x edim of standard normal random variables, and then\n",
    "        normalize each row to have unit length.\n",
    "        \"\"\"\n",
    "        x = np.random.randn(n, self.edim)\n",
    "        x /= np.linalg.norm(x, axis=1)[:, None]\n",
    "        return x\n",
    "\n",
    "    def poincare_polynomial(self):\n",
    "        \"\"\"\n",
    "        This returns the correct answer for the Poincare polynomial \n",
    "        of the sphere, represented as an integer-valued numpy array.\n",
    "        The i-th entry is the coefficient of t^i, which is the rank\n",
    "        of the i-th homology group.  In the case of the sphere, the\n",
    "        Poincare polynomial is 1 + t^dim.\n",
    "        \"\"\"\n",
    "        p = np.zeros(self.dim+1, dtype=int)\n",
    "        p[0] = 1\n",
    "        p[self.dim] = 1\n",
    "        return p\n"
   ]
  },
  {
   "cell_type": "code",
   "execution_count": 33,
   "metadata": {},
   "outputs": [],
   "source": [
    "class ComplexProjectiveSpace(Space):\n",
    "    def __init__(self, cdim):\n",
    "        self.cdim = cdim\n",
    "        super().__init__('CP^{' + str(cdim) + '}', (cdim+1) ** 2)\n",
    "\n",
    "    def sample(self, n):\n",
    "        d = self.cdim+1\n",
    "        x = np.random.randn(n, d) + 1j * np.random.randn(n, d)\n",
    "        x /= np.linalg.norm(x, axis=1)[:, None]\n",
    "        return x.reshape(n,d,1) * np.conj(x.reshape(n, 1, d))\n",
    "\n",
    "    def poincare_polynomial(self):\n",
    "        d = self.cdim\n",
    "        p = np.zeros(2*d + 2, dtype=int)\n",
    "        p[0::2] = 1\n",
    "        return p"
   ]
  },
  {
   "cell_type": "code",
   "execution_count": 6,
   "metadata": {},
   "outputs": [
    {
     "name": "stdout",
     "output_type": "stream",
     "text": [
      "S^{4}\n",
      "4\n",
      "5\n"
     ]
    }
   ],
   "source": [
    "X = Sphere(4)\n",
    "print(X.name)\n",
    "print(X.dim)\n",
    "print(X.edim)"
   ]
  },
  {
   "cell_type": "code",
   "execution_count": 7,
   "metadata": {},
   "outputs": [
    {
     "data": {
      "text/plain": [
       "'CP^{3}'"
      ]
     },
     "execution_count": 7,
     "metadata": {},
     "output_type": "execute_result"
    }
   ],
   "source": [
    "X = ComplexProjectiveSpace(3)\n",
    "X.name"
   ]
  },
  {
   "cell_type": "code",
   "execution_count": 8,
   "metadata": {},
   "outputs": [
    {
     "data": {
      "text/plain": [
       "3"
      ]
     },
     "execution_count": 8,
     "metadata": {},
     "output_type": "execute_result"
    }
   ],
   "source": [
    "X.cdim"
   ]
  },
  {
   "cell_type": "code",
   "execution_count": 34,
   "metadata": {},
   "outputs": [],
   "source": [
    "x = X.sample(3)"
   ]
  },
  {
   "cell_type": "code",
   "execution_count": 35,
   "metadata": {},
   "outputs": [
    {
     "data": {
      "text/plain": [
       "array([[[ 0.15854341+1.52129106e-18j,  0.0708904 +8.74111933e-02j,\n",
       "         -0.1813381 -1.01109377e-01j, -0.27813283+1.66357520e-02j],\n",
       "        [ 0.0708904 -8.74111933e-02j,  0.07989084-6.03315543e-19j,\n",
       "         -0.13682828+5.47691945e-02j, -0.11519115+1.60783963e-01j],\n",
       "        [-0.1813381 +1.01109377e-01j, -0.13682828-5.47691945e-02j,\n",
       "          0.27189154-4.25408998e-18j,  0.30751229-1.96403828e-01j],\n",
       "        [-0.27813283-1.66357520e-02j, -0.11519115-1.60783963e-01j,\n",
       "          0.30751229+1.96403828e-01j,  0.48967422-2.27655266e-18j]],\n",
       "\n",
       "       [[ 0.25830572-6.77055663e-18j, -0.27718038-6.92732762e-02j,\n",
       "          0.11608844+2.80074695e-02j, -0.0585632 -3.03752415e-01j],\n",
       "        [-0.27718038+6.92732762e-02j,  0.31601217+5.72220547e-18j,\n",
       "         -0.13208228+1.07897521e-03j,  0.1443038 +3.10242246e-01j],\n",
       "        [ 0.11608844-2.80074695e-02j, -0.13208228-1.07897521e-03j,\n",
       "          0.05520956-1.38068844e-18j, -0.05925478-1.30163348e-01j],\n",
       "        [-0.0585632 +3.03752415e-01j,  0.1443038 -3.10242246e-01j,\n",
       "         -0.05925478+1.30163348e-01j,  0.37047255-1.11811915e-18j]],\n",
       "\n",
       "       [[ 0.14841274+1.97589095e-18j, -0.07591171+1.08433314e-01j,\n",
       "          0.15480579-1.47593017e-01j, -0.0365712 -2.48555918e-01j],\n",
       "        [-0.07591171-1.08433314e-01j,  0.11805166-1.10706691e-18j,\n",
       "         -0.1870161 -3.76117828e-02j, -0.1628941 +1.53853634e-01j],\n",
       "        [ 0.15480579+1.47593017e-01j, -0.1870161 +3.76117828e-02j,\n",
       "          0.30825206-1.96305286e-18j,  0.20903653-2.95631959e-01j],\n",
       "        [-0.0365712 +2.48555918e-01j, -0.1628941 -1.53853634e-01j,\n",
       "          0.20903653+2.95631959e-01j,  0.42528354+8.11797664e-18j]]])"
      ]
     },
     "execution_count": 35,
     "metadata": {},
     "output_type": "execute_result"
    }
   ],
   "source": [
    "x"
   ]
  },
  {
   "cell_type": "code",
   "execution_count": 11,
   "metadata": {},
   "outputs": [
    {
     "data": {
      "text/plain": [
       "3.6399681661659405e-16"
      ]
     },
     "execution_count": 11,
     "metadata": {},
     "output_type": "execute_result"
    }
   ],
   "source": [
    "np.linalg.norm(x[0] @ x[0] - x[0]) "
   ]
  },
  {
   "cell_type": "code",
   "execution_count": 36,
   "metadata": {},
   "outputs": [],
   "source": [
    "d = 2\n",
    "n = 1\n",
    "x = np.random.randn(n, d) + 1j * np.random.randn(n, d)\n",
    "x /= np.linalg.norm(x, axis=1)[:, None]\n",
    "y = x.reshape(n,d,1) * np.conj(x.reshape(n, 1, d))\n"
   ]
  },
  {
   "cell_type": "code",
   "execution_count": 13,
   "metadata": {},
   "outputs": [
    {
     "data": {
      "text/plain": [
       "array([[ 0.22968231-0.17672857j, -0.85469184-0.43071442j]])"
      ]
     },
     "execution_count": 13,
     "metadata": {},
     "output_type": "execute_result"
    }
   ],
   "source": [
    "x"
   ]
  },
  {
   "cell_type": "code",
   "execution_count": 37,
   "metadata": {},
   "outputs": [
    {
     "data": {
      "text/plain": [
       "array([[[0.28094228+0.25047815j, 0.91368863+0.15331409j]]])"
      ]
     },
     "execution_count": 37,
     "metadata": {},
     "output_type": "execute_result"
    }
   ],
   "source": [
    "x1 = np.conj(x.reshape(n, 1, d))\n",
    "x1"
   ]
  },
  {
   "cell_type": "code",
   "execution_count": 38,
   "metadata": {},
   "outputs": [
    {
     "data": {
      "text/plain": [
       "array([[[0.14166787+5.50572026e-18j, 0.2950956 -1.85786628e-01j],\n",
       "        [0.2950956 +1.85786628e-01j, 0.85833213+3.12927904e-18j]]])"
      ]
     },
     "execution_count": 38,
     "metadata": {},
     "output_type": "execute_result"
    }
   ],
   "source": [
    "x1 * x.reshape(n,d,1)"
   ]
  },
  {
   "cell_type": "code",
   "execution_count": 16,
   "metadata": {},
   "outputs": [
    {
     "name": "stdout",
     "output_type": "stream",
     "text": [
      "(3, 2)\n",
      "[[1 2]\n",
      " [3 4]\n",
      " [5 6]]\n"
     ]
    }
   ],
   "source": [
    "a = np.array([[1,2],[3,4],[5,6]])\n",
    "print(a.shape)\n",
    "print(a)\n"
   ]
  },
  {
   "cell_type": "code",
   "execution_count": 17,
   "metadata": {},
   "outputs": [
    {
     "data": {
      "text/plain": [
       "array([[[1, 2]],\n",
       "\n",
       "       [[3, 4]],\n",
       "\n",
       "       [[5, 6]]])"
      ]
     },
     "execution_count": 17,
     "metadata": {},
     "output_type": "execute_result"
    }
   ],
   "source": [
    "a.reshape(3,1,2)"
   ]
  },
  {
   "cell_type": "code",
   "execution_count": 45,
   "metadata": {},
   "outputs": [
    {
     "name": "stdout",
     "output_type": "stream",
     "text": [
      "There are 36 point clouds in 3 dimensions, each with 100 points.\n"
     ]
    }
   ],
   "source": [
    "from gtda.generate_datasets import make_point_clouds\n",
    "n_samples_per_class = 12\n",
    "point_clouds, labels = make_point_clouds(n_samples_per_class, 10, 0.1)\n",
    "point_clouds.shape\n",
    "print(f\"There are {point_clouds.shape[0]} point clouds in {point_clouds.shape[2]} dimensions, \"\n",
    "      f\"each with {point_clouds.shape[1]} points.\")"
   ]
  },
  {
   "cell_type": "code",
   "execution_count": 56,
   "metadata": {},
   "outputs": [
    {
     "data": {
      "text/plain": [
       "(36, 171, 3)"
      ]
     },
     "execution_count": 56,
     "metadata": {},
     "output_type": "execute_result"
    }
   ],
   "source": [
    "from gtda.homology import VietorisRipsPersistence\n",
    "\n",
    "VR = VietorisRipsPersistence(homology_dimensions=[0,1,2])  # Parameter explained in the text\n",
    "diagrams = VR.fit_transform(point_clouds)\n",
    "diagrams.shape"
   ]
  },
  {
   "cell_type": "code",
   "execution_count": 181,
   "metadata": {},
   "outputs": [],
   "source": [
    "sphere = Sphere(dim=2)  # This has been defined in the prev\n",
    "\n",
    "# Generate 4 different samples of 70 points each on the sphere\n",
    "samples = [sphere.sample(300) for _ in range(4)]\n",
    "\n",
    "# Reshape each sample to add a batch dimension\n",
    "samples = [points.reshape(1, *points.shape) for points in samples]\n",
    "\n",
    "# Combine all samples into a single array with a batch dimension\n",
    "points = np.concatenate(samples, axis=0)"
   ]
  },
  {
   "cell_type": "code",
   "execution_count": 182,
   "metadata": {},
   "outputs": [
    {
     "data": {
      "text/plain": [
       "(4, 388, 3)"
      ]
     },
     "execution_count": 182,
     "metadata": {},
     "output_type": "execute_result"
    }
   ],
   "source": [
    "from gtda.homology import VietorisRipsPersistence\n",
    "\n",
    "VR = VietorisRipsPersistence(homology_dimensions=[0,1,2])  # Parameter explained in the text\n",
    "diagrams = VR.fit_transform(points)\n",
    "diagrams.shape"
   ]
  },
  {
   "cell_type": "code",
   "execution_count": 1,
   "metadata": {},
   "outputs": [
    {
     "ename": "NameError",
     "evalue": "name 'plt' is not defined",
     "output_type": "error",
     "traceback": [
      "\u001b[1;31m---------------------------------------------------------------------------\u001b[0m",
      "\u001b[1;31mNameError\u001b[0m                                 Traceback (most recent call last)",
      "Cell \u001b[1;32mIn[1], line 4\u001b[0m\n\u001b[0;32m      1\u001b[0m \u001b[38;5;28;01mfrom\u001b[39;00m \u001b[38;5;21;01mgtda\u001b[39;00m\u001b[38;5;21;01m.\u001b[39;00m\u001b[38;5;21;01mplotting\u001b[39;00m \u001b[38;5;28;01mimport\u001b[39;00m plot_diagram\n\u001b[0;32m      3\u001b[0m i \u001b[38;5;241m=\u001b[39m \u001b[38;5;241m3\u001b[39m\n\u001b[1;32m----> 4\u001b[0m fig, ax \u001b[38;5;241m=\u001b[39m plt\u001b[38;5;241m.\u001b[39msubplots(\u001b[38;5;241m3\u001b[39m, \u001b[38;5;241m1\u001b[39m)\n\u001b[0;32m      5\u001b[0m \u001b[38;5;28;01mfor\u001b[39;00m i \u001b[38;5;129;01min\u001b[39;00m \u001b[38;5;28mrange\u001b[39m(\u001b[38;5;241m3\u001b[39m):\n\u001b[0;32m      6\u001b[0m     plot_diagram(diagrams[i], ax\u001b[38;5;241m=\u001b[39max[i])\n",
      "\u001b[1;31mNameError\u001b[0m: name 'plt' is not defined"
     ]
    }
   ],
   "source": [
    "from gtda.plotting import plot_diagram\n",
    "\n",
    "i = 3\n",
    "fig, ax = plt.subplots(3, 1)\n",
    "for i in range(3):\n",
    "    plot_diagram(diagrams[i], ax=ax[i])\n"
   ]
  },
  {
   "cell_type": "code",
   "execution_count": null,
   "metadata": {},
   "outputs": [],
   "source": []
  }
 ],
 "metadata": {
  "kernelspec": {
   "display_name": "base",
   "language": "python",
   "name": "python3"
  },
  "language_info": {
   "codemirror_mode": {
    "name": "ipython",
    "version": 3
   },
   "file_extension": ".py",
   "mimetype": "text/x-python",
   "name": "python",
   "nbconvert_exporter": "python",
   "pygments_lexer": "ipython3",
   "version": "3.12.4"
  }
 },
 "nbformat": 4,
 "nbformat_minor": 2
}
