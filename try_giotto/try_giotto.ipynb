{
 "cells": [
  {
   "cell_type": "code",
   "execution_count": 1,
   "metadata": {},
   "outputs": [],
   "source": [
    "import gtda\n",
    "from data.generate_datasets import *\n",
    "from gtda.homology import VietorisRipsPersistence\n",
    "from gtda.plotting import plot_diagram\n",
    "from gtda.diagrams import PersistenceEntropy\n",
    "from sklearn.ensemble import RandomForestClassifier\n",
    "from sklearn.model_selection import train_test_split\n"
   ]
  },
  {
   "cell_type": "code",
   "execution_count": 2,
   "metadata": {},
   "outputs": [
    {
     "name": "stdout",
     "output_type": "stream",
     "text": [
      "There are 30 point clouds in 3 dimensions, each with 100 points.\n"
     ]
    }
   ],
   "source": [
    "n_samples_per_class = 10\n",
    "point_clouds, labels = make_point_clouds(n_samples_per_class, 10, 0.1)\n",
    "point_clouds.shape\n",
    "print(f\"There are {point_clouds.shape[0]} point clouds in {point_clouds.shape[2]} dimensions, \"\n",
    "      f\"each with {point_clouds.shape[1]} points.\")"
   ]
  },
  {
   "cell_type": "code",
   "execution_count": 3,
   "metadata": {},
   "outputs": [
    {
     "data": {
      "text/plain": [
       "(30, 169, 3)"
      ]
     },
     "execution_count": 3,
     "metadata": {},
     "output_type": "execute_result"
    }
   ],
   "source": [
    "\n",
    "\n",
    "VR = VietorisRipsPersistence(homology_dimensions=[0, 1, 2])  # Parameter explained in the text\n",
    "diagrams = VR.fit_transform(point_clouds)\n",
    "diagrams.shape"
   ]
  },
  {
   "cell_type": "code",
   "execution_count": 4,
   "metadata": {},
   "outputs": [
    {
     "data": {
      "application/vnd.plotly.v1+json": {
       "config": {
        "plotlyServerURL": "https://plot.ly"
       },
       "data": [
        {
         "hoverinfo": "none",
         "line": {
          "color": "black",
          "dash": "dash",
          "width": 1
         },
         "mode": "lines",
         "showlegend": false,
         "type": "scatter",
         "x": [
          -0.035367982387542726,
          1.803767101764679
         ],
         "y": [
          -0.035367982387542726,
          1.803767101764679
         ]
        },
        {
         "hoverinfo": "text",
         "hovertext": [
          "(0.0, 0.007017468102276325)",
          "(0.0, 0.007279597222805023)",
          "(0.0, 0.011106547899544239)",
          "(0.0, 0.012911968864500523)",
          "(0.0, 0.014624375849962234)",
          "(0.0, 0.016210531815886497)",
          "(0.0, 0.016387509182095528)",
          "(0.0, 0.01992087997496128)",
          "(0.0, 0.022571565583348274)",
          "(0.0, 0.02336646243929863)",
          "(0.0, 0.024619990959763527)",
          "(0.0, 0.03210461884737015)",
          "(0.0, 0.03308604285120964)",
          "(0.0, 0.03373092785477638)",
          "(0.0, 0.03520045801997185)",
          "(0.0, 0.035335052758455276)",
          "(0.0, 0.03604518622159958)",
          "(0.0, 0.037261441349983215)",
          "(0.0, 0.03804592043161392)",
          "(0.0, 0.03957975283265114)",
          "(0.0, 0.041551344096660614)",
          "(0.0, 0.0419173464179039)",
          "(0.0, 0.04348163679242134)",
          "(0.0, 0.0438961423933506)",
          "(0.0, 0.04565683379769325)",
          "(0.0, 0.04783379286527634)",
          "(0.0, 0.04842069000005722)",
          "(0.0, 0.049970243126153946)",
          "(0.0, 0.050358500331640244)",
          "(0.0, 0.05043475702404976)",
          "(0.0, 0.05211510509252548)",
          "(0.0, 0.05749484524130821)",
          "(0.0, 0.05781356990337372)",
          "(0.0, 0.058360084891319275)",
          "(0.0, 0.05953247845172882)",
          "(0.0, 0.059607457369565964)",
          "(0.0, 0.05966205522418022)",
          "(0.0, 0.06175558641552925)",
          "(0.0, 0.062938392162323)",
          "(0.0, 0.06364244967699051)",
          "(0.0, 0.06501424312591553)",
          "(0.0, 0.06575239449739456)",
          "(0.0, 0.06581167131662369)",
          "(0.0, 0.06748179346323013)",
          "(0.0, 0.06866448372602463)",
          "(0.0, 0.06888993829488754)",
          "(0.0, 0.06891446560621262)",
          "(0.0, 0.07078979164361954)",
          "(0.0, 0.07088997215032578)",
          "(0.0, 0.07329616695642471)",
          "(0.0, 0.07360965758562088)",
          "(0.0, 0.07486779242753983)",
          "(0.0, 0.07497550547122955)",
          "(0.0, 0.07518815994262695)",
          "(0.0, 0.07699567824602127)",
          "(0.0, 0.07706151902675629)",
          "(0.0, 0.07807711511850357)",
          "(0.0, 0.0782761424779892)",
          "(0.0, 0.07835759222507477)",
          "(0.0, 0.07870914787054062)",
          "(0.0, 0.08144935220479965)",
          "(0.0, 0.08243943750858307)",
          "(0.0, 0.08382683247327805)",
          "(0.0, 0.08819376677274704)",
          "(0.0, 0.08855441957712173)",
          "(0.0, 0.09134458005428314)",
          "(0.0, 0.09353338181972504)",
          "(0.0, 0.09467298537492752)",
          "(0.0, 0.09571143984794617)",
          "(0.0, 0.09746269881725311)",
          "(0.0, 0.09858718514442444)",
          "(0.0, 0.09899581968784332)",
          "(0.0, 0.09927944093942642)",
          "(0.0, 0.10166393965482712)",
          "(0.0, 0.1030212938785553)",
          "(0.0, 0.10320386290550232)",
          "(0.0, 0.1069418266415596)",
          "(0.0, 0.10925791412591934)",
          "(0.0, 0.11062569916248322)",
          "(0.0, 0.11164315044879913)",
          "(0.0, 0.1128426119685173)",
          "(0.0, 0.11545344442129135)",
          "(0.0, 0.11548486351966858)",
          "(0.0, 0.11696887761354446)",
          "(0.0, 0.11726588010787964)",
          "(0.0, 0.12047882378101349)",
          "(0.0, 0.12144758552312851)",
          "(0.0, 0.12318691611289978)",
          "(0.0, 0.12477363646030426)",
          "(0.0, 0.12574262917041779)",
          "(0.0, 0.12598879635334015)",
          "(0.0, 0.12653009593486786)",
          "(0.0, 0.13050790131092072)",
          "(0.0, 0.136921226978302)",
          "(0.0, 0.13721264898777008)",
          "(0.0, 0.1383984386920929)",
          "(0.0, 0.14211270213127136)",
          "(0.0, 0.14267462491989136)",
          "(0.0, 0.16006086766719818)"
         ],
         "mode": "markers",
         "name": "H0",
         "type": "scatter",
         "x": [
          0,
          0,
          0,
          0,
          0,
          0,
          0,
          0,
          0,
          0,
          0,
          0,
          0,
          0,
          0,
          0,
          0,
          0,
          0,
          0,
          0,
          0,
          0,
          0,
          0,
          0,
          0,
          0,
          0,
          0,
          0,
          0,
          0,
          0,
          0,
          0,
          0,
          0,
          0,
          0,
          0,
          0,
          0,
          0,
          0,
          0,
          0,
          0,
          0,
          0,
          0,
          0,
          0,
          0,
          0,
          0,
          0,
          0,
          0,
          0,
          0,
          0,
          0,
          0,
          0,
          0,
          0,
          0,
          0,
          0,
          0,
          0,
          0,
          0,
          0,
          0,
          0,
          0,
          0,
          0,
          0,
          0,
          0,
          0,
          0,
          0,
          0,
          0,
          0,
          0,
          0,
          0,
          0,
          0,
          0,
          0,
          0,
          0,
          0
         ],
         "y": [
          0.007017468102276325,
          0.007279597222805023,
          0.011106547899544239,
          0.012911968864500523,
          0.014624375849962234,
          0.016210531815886497,
          0.016387509182095528,
          0.01992087997496128,
          0.022571565583348274,
          0.02336646243929863,
          0.024619990959763527,
          0.03210461884737015,
          0.03308604285120964,
          0.03373092785477638,
          0.03520045801997185,
          0.035335052758455276,
          0.03604518622159958,
          0.037261441349983215,
          0.03804592043161392,
          0.03957975283265114,
          0.041551344096660614,
          0.0419173464179039,
          0.04348163679242134,
          0.0438961423933506,
          0.04565683379769325,
          0.04783379286527634,
          0.04842069000005722,
          0.049970243126153946,
          0.050358500331640244,
          0.05043475702404976,
          0.05211510509252548,
          0.05749484524130821,
          0.05781356990337372,
          0.058360084891319275,
          0.05953247845172882,
          0.059607457369565964,
          0.05966205522418022,
          0.06175558641552925,
          0.062938392162323,
          0.06364244967699051,
          0.06501424312591553,
          0.06575239449739456,
          0.06581167131662369,
          0.06748179346323013,
          0.06866448372602463,
          0.06888993829488754,
          0.06891446560621262,
          0.07078979164361954,
          0.07088997215032578,
          0.07329616695642471,
          0.07360965758562088,
          0.07486779242753983,
          0.07497550547122955,
          0.07518815994262695,
          0.07699567824602127,
          0.07706151902675629,
          0.07807711511850357,
          0.0782761424779892,
          0.07835759222507477,
          0.07870914787054062,
          0.08144935220479965,
          0.08243943750858307,
          0.08382683247327805,
          0.08819376677274704,
          0.08855441957712173,
          0.09134458005428314,
          0.09353338181972504,
          0.09467298537492752,
          0.09571143984794617,
          0.09746269881725311,
          0.09858718514442444,
          0.09899581968784332,
          0.09927944093942642,
          0.10166393965482712,
          0.1030212938785553,
          0.10320386290550232,
          0.1069418266415596,
          0.10925791412591934,
          0.11062569916248322,
          0.11164315044879913,
          0.1128426119685173,
          0.11545344442129135,
          0.11548486351966858,
          0.11696887761354446,
          0.11726588010787964,
          0.12047882378101349,
          0.12144758552312851,
          0.12318691611289978,
          0.12477363646030426,
          0.12574262917041779,
          0.12598879635334015,
          0.12653009593486786,
          0.13050790131092072,
          0.136921226978302,
          0.13721264898777008,
          0.1383984386920929,
          0.14211270213127136,
          0.14267462491989136,
          0.16006086766719818
         ]
        },
        {
         "hoverinfo": "text",
         "hovertext": [
          "(0.16268804669380188, 1.6941112279891968)",
          "(0.12499479204416275, 0.1307598203420639)"
         ],
         "mode": "markers",
         "name": "H1",
         "type": "scatter",
         "x": [
          0.16268804669380188,
          0.12499479204416275
         ],
         "y": [
          1.6941112279891968,
          0.1307598203420639
         ]
        },
        {
         "hoverinfo": "text",
         "hovertext": [
          "(1.7464474439620972, 1.7542752027511597)",
          "(1.7435719966888428, 1.7483325004577637)",
          "(1.7394003868103027, 1.7626978158950806)",
          "(1.728532314300537, 1.7324541807174683)",
          "(1.718893051147461, 1.7367209196090698)",
          "(1.71815824508667, 1.7232617139816284)",
          "(1.7124003171920776, 1.7444777488708496)",
          "(1.7059839963912964, 1.7599507570266724)",
          "(1.7028676271438599, 1.7683991193771362)",
          "(1.6976884603500366, 1.7617621421813965)"
         ],
         "mode": "markers",
         "name": "H2",
         "type": "scatter",
         "x": [
          1.7464474439620972,
          1.7435719966888428,
          1.7394003868103027,
          1.728532314300537,
          1.718893051147461,
          1.71815824508667,
          1.7124003171920776,
          1.7059839963912964,
          1.7028676271438599,
          1.6976884603500366
         ],
         "y": [
          1.7542752027511597,
          1.7483325004577637,
          1.7626978158950806,
          1.7324541807174683,
          1.7367209196090698,
          1.7232617139816284,
          1.7444777488708496,
          1.7599507570266724,
          1.7683991193771362,
          1.7617621421813965
         ]
        }
       ],
       "layout": {
        "height": 500,
        "plot_bgcolor": "white",
        "template": {
         "data": {
          "bar": [
           {
            "error_x": {
             "color": "#2a3f5f"
            },
            "error_y": {
             "color": "#2a3f5f"
            },
            "marker": {
             "line": {
              "color": "#E5ECF6",
              "width": 0.5
             },
             "pattern": {
              "fillmode": "overlay",
              "size": 10,
              "solidity": 0.2
             }
            },
            "type": "bar"
           }
          ],
          "barpolar": [
           {
            "marker": {
             "line": {
              "color": "#E5ECF6",
              "width": 0.5
             },
             "pattern": {
              "fillmode": "overlay",
              "size": 10,
              "solidity": 0.2
             }
            },
            "type": "barpolar"
           }
          ],
          "carpet": [
           {
            "aaxis": {
             "endlinecolor": "#2a3f5f",
             "gridcolor": "white",
             "linecolor": "white",
             "minorgridcolor": "white",
             "startlinecolor": "#2a3f5f"
            },
            "baxis": {
             "endlinecolor": "#2a3f5f",
             "gridcolor": "white",
             "linecolor": "white",
             "minorgridcolor": "white",
             "startlinecolor": "#2a3f5f"
            },
            "type": "carpet"
           }
          ],
          "choropleth": [
           {
            "colorbar": {
             "outlinewidth": 0,
             "ticks": ""
            },
            "type": "choropleth"
           }
          ],
          "contour": [
           {
            "colorbar": {
             "outlinewidth": 0,
             "ticks": ""
            },
            "colorscale": [
             [
              0,
              "#0d0887"
             ],
             [
              0.1111111111111111,
              "#46039f"
             ],
             [
              0.2222222222222222,
              "#7201a8"
             ],
             [
              0.3333333333333333,
              "#9c179e"
             ],
             [
              0.4444444444444444,
              "#bd3786"
             ],
             [
              0.5555555555555556,
              "#d8576b"
             ],
             [
              0.6666666666666666,
              "#ed7953"
             ],
             [
              0.7777777777777778,
              "#fb9f3a"
             ],
             [
              0.8888888888888888,
              "#fdca26"
             ],
             [
              1,
              "#f0f921"
             ]
            ],
            "type": "contour"
           }
          ],
          "contourcarpet": [
           {
            "colorbar": {
             "outlinewidth": 0,
             "ticks": ""
            },
            "type": "contourcarpet"
           }
          ],
          "heatmap": [
           {
            "colorbar": {
             "outlinewidth": 0,
             "ticks": ""
            },
            "colorscale": [
             [
              0,
              "#0d0887"
             ],
             [
              0.1111111111111111,
              "#46039f"
             ],
             [
              0.2222222222222222,
              "#7201a8"
             ],
             [
              0.3333333333333333,
              "#9c179e"
             ],
             [
              0.4444444444444444,
              "#bd3786"
             ],
             [
              0.5555555555555556,
              "#d8576b"
             ],
             [
              0.6666666666666666,
              "#ed7953"
             ],
             [
              0.7777777777777778,
              "#fb9f3a"
             ],
             [
              0.8888888888888888,
              "#fdca26"
             ],
             [
              1,
              "#f0f921"
             ]
            ],
            "type": "heatmap"
           }
          ],
          "heatmapgl": [
           {
            "colorbar": {
             "outlinewidth": 0,
             "ticks": ""
            },
            "colorscale": [
             [
              0,
              "#0d0887"
             ],
             [
              0.1111111111111111,
              "#46039f"
             ],
             [
              0.2222222222222222,
              "#7201a8"
             ],
             [
              0.3333333333333333,
              "#9c179e"
             ],
             [
              0.4444444444444444,
              "#bd3786"
             ],
             [
              0.5555555555555556,
              "#d8576b"
             ],
             [
              0.6666666666666666,
              "#ed7953"
             ],
             [
              0.7777777777777778,
              "#fb9f3a"
             ],
             [
              0.8888888888888888,
              "#fdca26"
             ],
             [
              1,
              "#f0f921"
             ]
            ],
            "type": "heatmapgl"
           }
          ],
          "histogram": [
           {
            "marker": {
             "pattern": {
              "fillmode": "overlay",
              "size": 10,
              "solidity": 0.2
             }
            },
            "type": "histogram"
           }
          ],
          "histogram2d": [
           {
            "colorbar": {
             "outlinewidth": 0,
             "ticks": ""
            },
            "colorscale": [
             [
              0,
              "#0d0887"
             ],
             [
              0.1111111111111111,
              "#46039f"
             ],
             [
              0.2222222222222222,
              "#7201a8"
             ],
             [
              0.3333333333333333,
              "#9c179e"
             ],
             [
              0.4444444444444444,
              "#bd3786"
             ],
             [
              0.5555555555555556,
              "#d8576b"
             ],
             [
              0.6666666666666666,
              "#ed7953"
             ],
             [
              0.7777777777777778,
              "#fb9f3a"
             ],
             [
              0.8888888888888888,
              "#fdca26"
             ],
             [
              1,
              "#f0f921"
             ]
            ],
            "type": "histogram2d"
           }
          ],
          "histogram2dcontour": [
           {
            "colorbar": {
             "outlinewidth": 0,
             "ticks": ""
            },
            "colorscale": [
             [
              0,
              "#0d0887"
             ],
             [
              0.1111111111111111,
              "#46039f"
             ],
             [
              0.2222222222222222,
              "#7201a8"
             ],
             [
              0.3333333333333333,
              "#9c179e"
             ],
             [
              0.4444444444444444,
              "#bd3786"
             ],
             [
              0.5555555555555556,
              "#d8576b"
             ],
             [
              0.6666666666666666,
              "#ed7953"
             ],
             [
              0.7777777777777778,
              "#fb9f3a"
             ],
             [
              0.8888888888888888,
              "#fdca26"
             ],
             [
              1,
              "#f0f921"
             ]
            ],
            "type": "histogram2dcontour"
           }
          ],
          "mesh3d": [
           {
            "colorbar": {
             "outlinewidth": 0,
             "ticks": ""
            },
            "type": "mesh3d"
           }
          ],
          "parcoords": [
           {
            "line": {
             "colorbar": {
              "outlinewidth": 0,
              "ticks": ""
             }
            },
            "type": "parcoords"
           }
          ],
          "pie": [
           {
            "automargin": true,
            "type": "pie"
           }
          ],
          "scatter": [
           {
            "fillpattern": {
             "fillmode": "overlay",
             "size": 10,
             "solidity": 0.2
            },
            "type": "scatter"
           }
          ],
          "scatter3d": [
           {
            "line": {
             "colorbar": {
              "outlinewidth": 0,
              "ticks": ""
             }
            },
            "marker": {
             "colorbar": {
              "outlinewidth": 0,
              "ticks": ""
             }
            },
            "type": "scatter3d"
           }
          ],
          "scattercarpet": [
           {
            "marker": {
             "colorbar": {
              "outlinewidth": 0,
              "ticks": ""
             }
            },
            "type": "scattercarpet"
           }
          ],
          "scattergeo": [
           {
            "marker": {
             "colorbar": {
              "outlinewidth": 0,
              "ticks": ""
             }
            },
            "type": "scattergeo"
           }
          ],
          "scattergl": [
           {
            "marker": {
             "colorbar": {
              "outlinewidth": 0,
              "ticks": ""
             }
            },
            "type": "scattergl"
           }
          ],
          "scattermapbox": [
           {
            "marker": {
             "colorbar": {
              "outlinewidth": 0,
              "ticks": ""
             }
            },
            "type": "scattermapbox"
           }
          ],
          "scatterpolar": [
           {
            "marker": {
             "colorbar": {
              "outlinewidth": 0,
              "ticks": ""
             }
            },
            "type": "scatterpolar"
           }
          ],
          "scatterpolargl": [
           {
            "marker": {
             "colorbar": {
              "outlinewidth": 0,
              "ticks": ""
             }
            },
            "type": "scatterpolargl"
           }
          ],
          "scatterternary": [
           {
            "marker": {
             "colorbar": {
              "outlinewidth": 0,
              "ticks": ""
             }
            },
            "type": "scatterternary"
           }
          ],
          "surface": [
           {
            "colorbar": {
             "outlinewidth": 0,
             "ticks": ""
            },
            "colorscale": [
             [
              0,
              "#0d0887"
             ],
             [
              0.1111111111111111,
              "#46039f"
             ],
             [
              0.2222222222222222,
              "#7201a8"
             ],
             [
              0.3333333333333333,
              "#9c179e"
             ],
             [
              0.4444444444444444,
              "#bd3786"
             ],
             [
              0.5555555555555556,
              "#d8576b"
             ],
             [
              0.6666666666666666,
              "#ed7953"
             ],
             [
              0.7777777777777778,
              "#fb9f3a"
             ],
             [
              0.8888888888888888,
              "#fdca26"
             ],
             [
              1,
              "#f0f921"
             ]
            ],
            "type": "surface"
           }
          ],
          "table": [
           {
            "cells": {
             "fill": {
              "color": "#EBF0F8"
             },
             "line": {
              "color": "white"
             }
            },
            "header": {
             "fill": {
              "color": "#C8D4E3"
             },
             "line": {
              "color": "white"
             }
            },
            "type": "table"
           }
          ]
         },
         "layout": {
          "annotationdefaults": {
           "arrowcolor": "#2a3f5f",
           "arrowhead": 0,
           "arrowwidth": 1
          },
          "autotypenumbers": "strict",
          "coloraxis": {
           "colorbar": {
            "outlinewidth": 0,
            "ticks": ""
           }
          },
          "colorscale": {
           "diverging": [
            [
             0,
             "#8e0152"
            ],
            [
             0.1,
             "#c51b7d"
            ],
            [
             0.2,
             "#de77ae"
            ],
            [
             0.3,
             "#f1b6da"
            ],
            [
             0.4,
             "#fde0ef"
            ],
            [
             0.5,
             "#f7f7f7"
            ],
            [
             0.6,
             "#e6f5d0"
            ],
            [
             0.7,
             "#b8e186"
            ],
            [
             0.8,
             "#7fbc41"
            ],
            [
             0.9,
             "#4d9221"
            ],
            [
             1,
             "#276419"
            ]
           ],
           "sequential": [
            [
             0,
             "#0d0887"
            ],
            [
             0.1111111111111111,
             "#46039f"
            ],
            [
             0.2222222222222222,
             "#7201a8"
            ],
            [
             0.3333333333333333,
             "#9c179e"
            ],
            [
             0.4444444444444444,
             "#bd3786"
            ],
            [
             0.5555555555555556,
             "#d8576b"
            ],
            [
             0.6666666666666666,
             "#ed7953"
            ],
            [
             0.7777777777777778,
             "#fb9f3a"
            ],
            [
             0.8888888888888888,
             "#fdca26"
            ],
            [
             1,
             "#f0f921"
            ]
           ],
           "sequentialminus": [
            [
             0,
             "#0d0887"
            ],
            [
             0.1111111111111111,
             "#46039f"
            ],
            [
             0.2222222222222222,
             "#7201a8"
            ],
            [
             0.3333333333333333,
             "#9c179e"
            ],
            [
             0.4444444444444444,
             "#bd3786"
            ],
            [
             0.5555555555555556,
             "#d8576b"
            ],
            [
             0.6666666666666666,
             "#ed7953"
            ],
            [
             0.7777777777777778,
             "#fb9f3a"
            ],
            [
             0.8888888888888888,
             "#fdca26"
            ],
            [
             1,
             "#f0f921"
            ]
           ]
          },
          "colorway": [
           "#636efa",
           "#EF553B",
           "#00cc96",
           "#ab63fa",
           "#FFA15A",
           "#19d3f3",
           "#FF6692",
           "#B6E880",
           "#FF97FF",
           "#FECB52"
          ],
          "font": {
           "color": "#2a3f5f"
          },
          "geo": {
           "bgcolor": "white",
           "lakecolor": "white",
           "landcolor": "#E5ECF6",
           "showlakes": true,
           "showland": true,
           "subunitcolor": "white"
          },
          "hoverlabel": {
           "align": "left"
          },
          "hovermode": "closest",
          "mapbox": {
           "style": "light"
          },
          "paper_bgcolor": "white",
          "plot_bgcolor": "#E5ECF6",
          "polar": {
           "angularaxis": {
            "gridcolor": "white",
            "linecolor": "white",
            "ticks": ""
           },
           "bgcolor": "#E5ECF6",
           "radialaxis": {
            "gridcolor": "white",
            "linecolor": "white",
            "ticks": ""
           }
          },
          "scene": {
           "xaxis": {
            "backgroundcolor": "#E5ECF6",
            "gridcolor": "white",
            "gridwidth": 2,
            "linecolor": "white",
            "showbackground": true,
            "ticks": "",
            "zerolinecolor": "white"
           },
           "yaxis": {
            "backgroundcolor": "#E5ECF6",
            "gridcolor": "white",
            "gridwidth": 2,
            "linecolor": "white",
            "showbackground": true,
            "ticks": "",
            "zerolinecolor": "white"
           },
           "zaxis": {
            "backgroundcolor": "#E5ECF6",
            "gridcolor": "white",
            "gridwidth": 2,
            "linecolor": "white",
            "showbackground": true,
            "ticks": "",
            "zerolinecolor": "white"
           }
          },
          "shapedefaults": {
           "line": {
            "color": "#2a3f5f"
           }
          },
          "ternary": {
           "aaxis": {
            "gridcolor": "white",
            "linecolor": "white",
            "ticks": ""
           },
           "baxis": {
            "gridcolor": "white",
            "linecolor": "white",
            "ticks": ""
           },
           "bgcolor": "#E5ECF6",
           "caxis": {
            "gridcolor": "white",
            "linecolor": "white",
            "ticks": ""
           }
          },
          "title": {
           "x": 0.05
          },
          "xaxis": {
           "automargin": true,
           "gridcolor": "white",
           "linecolor": "white",
           "ticks": "",
           "title": {
            "standoff": 15
           },
           "zerolinecolor": "white",
           "zerolinewidth": 2
          },
          "yaxis": {
           "automargin": true,
           "gridcolor": "white",
           "linecolor": "white",
           "ticks": "",
           "title": {
            "standoff": 15
           },
           "zerolinecolor": "white",
           "zerolinewidth": 2
          }
         }
        },
        "width": 500,
        "xaxis": {
         "autorange": false,
         "exponentformat": "e",
         "linecolor": "black",
         "linewidth": 1,
         "mirror": false,
         "range": [
          -0.035367982387542726,
          1.803767101764679
         ],
         "showexponent": "all",
         "showline": true,
         "side": "bottom",
         "ticks": "outside",
         "title": {
          "text": "Birth"
         },
         "type": "linear",
         "zeroline": true
        },
        "yaxis": {
         "autorange": false,
         "exponentformat": "e",
         "linecolor": "black",
         "linewidth": 1,
         "mirror": false,
         "range": [
          -0.035367982387542726,
          1.803767101764679
         ],
         "scaleanchor": "x",
         "scaleratio": 1,
         "showexponent": "all",
         "showline": true,
         "side": "left",
         "ticks": "outside",
         "title": {
          "text": "Death"
         },
         "type": "linear",
         "zeroline": true
        }
       }
      }
     },
     "metadata": {},
     "output_type": "display_data"
    }
   ],
   "source": [
    "\n",
    "\n",
    "i = 0\n",
    "plot_diagram(diagrams[i])"
   ]
  },
  {
   "cell_type": "code",
   "execution_count": 6,
   "metadata": {},
   "outputs": [],
   "source": [
    "\n",
    "\n",
    "PE = PersistenceEntropy()\n",
    "features = PE.fit_transform(diagrams)"
   ]
  },
  {
   "cell_type": "code",
   "execution_count": 7,
   "metadata": {},
   "outputs": [
    {
     "data": {
      "text/plain": [
       "1.0"
      ]
     },
     "execution_count": 7,
     "metadata": {},
     "output_type": "execute_result"
    }
   ],
   "source": [
    "\n",
    "\n",
    "X_train, X_valid, y_train, y_valid = train_test_split(features, labels)\n",
    "model = RandomForestClassifier()\n",
    "model.fit(X_train, y_train)\n",
    "model.score(X_valid, y_valid)"
   ]
  },
  {
   "cell_type": "code",
   "execution_count": null,
   "metadata": {},
   "outputs": [],
   "source": []
  }
 ],
 "metadata": {
  "kernelspec": {
   "display_name": "Python 3",
   "language": "python",
   "name": "python3"
  },
  "language_info": {
   "codemirror_mode": {
    "name": "ipython",
    "version": 3
   },
   "file_extension": ".py",
   "mimetype": "text/x-python",
   "name": "python",
   "nbconvert_exporter": "python",
   "pygments_lexer": "ipython3",
   "version": "3.11.5"
  }
 },
 "nbformat": 4,
 "nbformat_minor": 2
}
