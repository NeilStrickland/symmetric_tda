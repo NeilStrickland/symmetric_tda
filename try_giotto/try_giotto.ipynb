{
 "cells": [
  {
   "cell_type": "code",
   "execution_count": 1,
   "metadata": {},
   "outputs": [],
   "source": [
    "import gtda\n",
    "from data.generate_datasets import *\n",
    "from gtda.homology import VietorisRipsPersistence\n",
    "from gtda.plotting import plot_diagram\n",
    "from gtda.diagrams import PersistenceEntropy\n",
    "from sklearn.ensemble import RandomForestClassifier\n",
    "from sklearn.model_selection import train_test_split\n"
   ]
  },
  {
   "cell_type": "code",
   "execution_count": 3,
   "metadata": {},
   "outputs": [
    {
     "name": "stdout",
     "output_type": "stream",
     "text": [
      "There are 30 point clouds in 3 dimensions, each with 100 points.\n"
     ]
    }
   ],
   "source": [
    "n_samples_per_class = 10\n",
    "point_clouds, labels = make_point_clouds(n_samples_per_class, 10, 0.1)\n",
    "point_clouds.shape\n",
    "print(f\"There are {point_clouds.shape[0]} point clouds in {point_clouds.shape[2]} dimensions, \"\n",
    "      f\"each with {point_clouds.shape[1]} points.\")"
   ]
  },
  {
   "cell_type": "code",
   "execution_count": 4,
   "metadata": {},
   "outputs": [
    {
     "data": {
      "text/plain": [
       "(30, 174, 3)"
      ]
     },
     "execution_count": 4,
     "metadata": {},
     "output_type": "execute_result"
    }
   ],
   "source": [
    "\n",
    "\n",
    "VR = VietorisRipsPersistence(homology_dimensions=[0, 1, 2])  # Parameter explained in the text\n",
    "diagrams = VR.fit_transform(point_clouds)\n",
    "diagrams.shape"
   ]
  },
  {
   "cell_type": "code",
   "execution_count": 5,
   "metadata": {},
   "outputs": [
    {
     "data": {
      "application/vnd.plotly.v1+json": {
       "config": {
        "plotlyServerURL": "https://plot.ly"
       },
       "data": [
        {
         "hoverinfo": "none",
         "line": {
          "color": "black",
          "dash": "dash",
          "width": 1
         },
         "mode": "lines",
         "showlegend": false,
         "type": "scatter",
         "x": [
          -0.035800244808197025,
          1.8258124852180482
         ],
         "y": [
          -0.035800244808197025,
          1.8258124852180482
         ]
        },
        {
         "hoverinfo": "text",
         "hovertext": [
          "(0.0, 0.0037121407222002745)",
          "(0.0, 0.004863401874899864)",
          "(0.0, 0.006250086706131697)",
          "(0.0, 0.007791342679411173)",
          "(0.0, 0.011067829094827175)",
          "(0.0, 0.011636694893240929)",
          "(0.0, 0.01359308697283268)",
          "(0.0, 0.015109245665371418)",
          "(0.0, 0.018067041411995888)",
          "(0.0, 0.018236389383673668)",
          "(0.0, 0.02000814490020275)",
          "(0.0, 0.023036735132336617)",
          "(0.0, 0.023897685110569)",
          "(0.0, 0.024962948635220528)",
          "(0.0, 0.02625354565680027)",
          "(0.0, 0.028236934915184975)",
          "(0.0, 0.02831246703863144)",
          "(0.0, 0.02999620884656906)",
          "(0.0, 0.03162166848778725)",
          "(0.0, 0.03290153667330742)",
          "(0.0, 0.03361832723021507)",
          "(0.0, 0.03567225858569145)",
          "(0.0, 0.0359773226082325)",
          "(0.0, 0.036269258707761765)",
          "(0.0, 0.03652167692780495)",
          "(0.0, 0.03780210763216019)",
          "(0.0, 0.03987511247396469)",
          "(0.0, 0.0412888303399086)",
          "(0.0, 0.04160588979721069)",
          "(0.0, 0.042194489389657974)",
          "(0.0, 0.04280612990260124)",
          "(0.0, 0.043442822992801666)",
          "(0.0, 0.04351786524057388)",
          "(0.0, 0.044941339641809464)",
          "(0.0, 0.04626297205686569)",
          "(0.0, 0.04735667258501053)",
          "(0.0, 0.05250874161720276)",
          "(0.0, 0.05497802048921585)",
          "(0.0, 0.05530828982591629)",
          "(0.0, 0.05670996010303497)",
          "(0.0, 0.05747334286570549)",
          "(0.0, 0.05965660139918327)",
          "(0.0, 0.060077399015426636)",
          "(0.0, 0.060384005308151245)",
          "(0.0, 0.061243969947099686)",
          "(0.0, 0.0625734031200409)",
          "(0.0, 0.06317120045423508)",
          "(0.0, 0.06323925405740738)",
          "(0.0, 0.06434911489486694)",
          "(0.0, 0.0661829337477684)",
          "(0.0, 0.06749647110700607)",
          "(0.0, 0.06776458770036697)",
          "(0.0, 0.06960269063711166)",
          "(0.0, 0.0717981830239296)",
          "(0.0, 0.07345297932624817)",
          "(0.0, 0.0751694068312645)",
          "(0.0, 0.0752386748790741)",
          "(0.0, 0.07900390774011612)",
          "(0.0, 0.07955244928598404)",
          "(0.0, 0.0804397240281105)",
          "(0.0, 0.08191783726215363)",
          "(0.0, 0.08325278759002686)",
          "(0.0, 0.08390992134809494)",
          "(0.0, 0.08444543927907944)",
          "(0.0, 0.0846998393535614)",
          "(0.0, 0.08595284819602966)",
          "(0.0, 0.08679541200399399)",
          "(0.0, 0.08695032447576523)",
          "(0.0, 0.08969669044017792)",
          "(0.0, 0.09214325994253159)",
          "(0.0, 0.09250570088624954)",
          "(0.0, 0.09892930835485458)",
          "(0.0, 0.10124387592077255)",
          "(0.0, 0.1030181497335434)",
          "(0.0, 0.10329747200012207)",
          "(0.0, 0.10915413498878479)",
          "(0.0, 0.10924545675516129)",
          "(0.0, 0.11218777298927307)",
          "(0.0, 0.112416110932827)",
          "(0.0, 0.11864534020423889)",
          "(0.0, 0.12060850858688354)",
          "(0.0, 0.12086793780326843)",
          "(0.0, 0.12241999804973602)",
          "(0.0, 0.1308230757713318)",
          "(0.0, 0.13107676804065704)",
          "(0.0, 0.13340449333190918)",
          "(0.0, 0.13388489186763763)",
          "(0.0, 0.1378915011882782)",
          "(0.0, 0.13826395571231842)",
          "(0.0, 0.14142154157161713)",
          "(0.0, 0.14304685592651367)",
          "(0.0, 0.1509881168603897)",
          "(0.0, 0.15102294087409973)",
          "(0.0, 0.16284385323524475)",
          "(0.0, 0.16296671330928802)",
          "(0.0, 0.16883966326713562)",
          "(0.0, 0.17173996567726135)",
          "(0.0, 0.18025840818881989)",
          "(0.0, 0.18175958096981049)"
         ],
         "mode": "markers",
         "name": "H0",
         "type": "scatter",
         "x": [
          0,
          0,
          0,
          0,
          0,
          0,
          0,
          0,
          0,
          0,
          0,
          0,
          0,
          0,
          0,
          0,
          0,
          0,
          0,
          0,
          0,
          0,
          0,
          0,
          0,
          0,
          0,
          0,
          0,
          0,
          0,
          0,
          0,
          0,
          0,
          0,
          0,
          0,
          0,
          0,
          0,
          0,
          0,
          0,
          0,
          0,
          0,
          0,
          0,
          0,
          0,
          0,
          0,
          0,
          0,
          0,
          0,
          0,
          0,
          0,
          0,
          0,
          0,
          0,
          0,
          0,
          0,
          0,
          0,
          0,
          0,
          0,
          0,
          0,
          0,
          0,
          0,
          0,
          0,
          0,
          0,
          0,
          0,
          0,
          0,
          0,
          0,
          0,
          0,
          0,
          0,
          0,
          0,
          0,
          0,
          0,
          0,
          0,
          0
         ],
         "y": [
          0.0037121407222002745,
          0.004863401874899864,
          0.006250086706131697,
          0.007791342679411173,
          0.011067829094827175,
          0.011636694893240929,
          0.01359308697283268,
          0.015109245665371418,
          0.018067041411995888,
          0.018236389383673668,
          0.02000814490020275,
          0.023036735132336617,
          0.023897685110569,
          0.024962948635220528,
          0.02625354565680027,
          0.028236934915184975,
          0.02831246703863144,
          0.02999620884656906,
          0.03162166848778725,
          0.03290153667330742,
          0.03361832723021507,
          0.03567225858569145,
          0.0359773226082325,
          0.036269258707761765,
          0.03652167692780495,
          0.03780210763216019,
          0.03987511247396469,
          0.0412888303399086,
          0.04160588979721069,
          0.042194489389657974,
          0.04280612990260124,
          0.043442822992801666,
          0.04351786524057388,
          0.044941339641809464,
          0.04626297205686569,
          0.04735667258501053,
          0.05250874161720276,
          0.05497802048921585,
          0.05530828982591629,
          0.05670996010303497,
          0.05747334286570549,
          0.05965660139918327,
          0.060077399015426636,
          0.060384005308151245,
          0.061243969947099686,
          0.0625734031200409,
          0.06317120045423508,
          0.06323925405740738,
          0.06434911489486694,
          0.0661829337477684,
          0.06749647110700607,
          0.06776458770036697,
          0.06960269063711166,
          0.0717981830239296,
          0.07345297932624817,
          0.0751694068312645,
          0.0752386748790741,
          0.07900390774011612,
          0.07955244928598404,
          0.0804397240281105,
          0.08191783726215363,
          0.08325278759002686,
          0.08390992134809494,
          0.08444543927907944,
          0.0846998393535614,
          0.08595284819602966,
          0.08679541200399399,
          0.08695032447576523,
          0.08969669044017792,
          0.09214325994253159,
          0.09250570088624954,
          0.09892930835485458,
          0.10124387592077255,
          0.1030181497335434,
          0.10329747200012207,
          0.10915413498878479,
          0.10924545675516129,
          0.11218777298927307,
          0.112416110932827,
          0.11864534020423889,
          0.12060850858688354,
          0.12086793780326843,
          0.12241999804973602,
          0.1308230757713318,
          0.13107676804065704,
          0.13340449333190918,
          0.13388489186763763,
          0.1378915011882782,
          0.13826395571231842,
          0.14142154157161713,
          0.14304685592651367,
          0.1509881168603897,
          0.15102294087409973,
          0.16284385323524475,
          0.16296671330928802,
          0.16883966326713562,
          0.17173996567726135,
          0.18025840818881989,
          0.18175958096981049
         ]
        },
        {
         "hoverinfo": "text",
         "hovertext": [
          "(0.187967911362648, 1.7019308805465698)",
          "(0.08879752457141876, 0.0994260162115097)"
         ],
         "mode": "markers",
         "name": "H1",
         "type": "scatter",
         "x": [
          0.187967911362648,
          0.08879752457141876
         ],
         "y": [
          1.7019308805465698,
          0.0994260162115097
         ]
        },
        {
         "hoverinfo": "text",
         "hovertext": [
          "(1.762478232383728, 1.7780919075012207)",
          "(1.7394720315933228, 1.7606810331344604)",
          "(1.734910488128662, 1.7455753087997437)",
          "(1.7315491437911987, 1.750382900238037)",
          "(1.7258750200271606, 1.728471279144287)",
          "(1.722381353378296, 1.7247627973556519)",
          "(1.717379093170166, 1.752624273300171)",
          "(1.7047474384307861, 1.790012240409851)"
         ],
         "mode": "markers",
         "name": "H2",
         "type": "scatter",
         "x": [
          1.762478232383728,
          1.7394720315933228,
          1.734910488128662,
          1.7315491437911987,
          1.7258750200271606,
          1.722381353378296,
          1.717379093170166,
          1.7047474384307861
         ],
         "y": [
          1.7780919075012207,
          1.7606810331344604,
          1.7455753087997437,
          1.750382900238037,
          1.728471279144287,
          1.7247627973556519,
          1.752624273300171,
          1.790012240409851
         ]
        }
       ],
       "layout": {
        "height": 500,
        "plot_bgcolor": "white",
        "template": {
         "data": {
          "bar": [
           {
            "error_x": {
             "color": "#2a3f5f"
            },
            "error_y": {
             "color": "#2a3f5f"
            },
            "marker": {
             "line": {
              "color": "#E5ECF6",
              "width": 0.5
             },
             "pattern": {
              "fillmode": "overlay",
              "size": 10,
              "solidity": 0.2
             }
            },
            "type": "bar"
           }
          ],
          "barpolar": [
           {
            "marker": {
             "line": {
              "color": "#E5ECF6",
              "width": 0.5
             },
             "pattern": {
              "fillmode": "overlay",
              "size": 10,
              "solidity": 0.2
             }
            },
            "type": "barpolar"
           }
          ],
          "carpet": [
           {
            "aaxis": {
             "endlinecolor": "#2a3f5f",
             "gridcolor": "white",
             "linecolor": "white",
             "minorgridcolor": "white",
             "startlinecolor": "#2a3f5f"
            },
            "baxis": {
             "endlinecolor": "#2a3f5f",
             "gridcolor": "white",
             "linecolor": "white",
             "minorgridcolor": "white",
             "startlinecolor": "#2a3f5f"
            },
            "type": "carpet"
           }
          ],
          "choropleth": [
           {
            "colorbar": {
             "outlinewidth": 0,
             "ticks": ""
            },
            "type": "choropleth"
           }
          ],
          "contour": [
           {
            "colorbar": {
             "outlinewidth": 0,
             "ticks": ""
            },
            "colorscale": [
             [
              0,
              "#0d0887"
             ],
             [
              0.1111111111111111,
              "#46039f"
             ],
             [
              0.2222222222222222,
              "#7201a8"
             ],
             [
              0.3333333333333333,
              "#9c179e"
             ],
             [
              0.4444444444444444,
              "#bd3786"
             ],
             [
              0.5555555555555556,
              "#d8576b"
             ],
             [
              0.6666666666666666,
              "#ed7953"
             ],
             [
              0.7777777777777778,
              "#fb9f3a"
             ],
             [
              0.8888888888888888,
              "#fdca26"
             ],
             [
              1,
              "#f0f921"
             ]
            ],
            "type": "contour"
           }
          ],
          "contourcarpet": [
           {
            "colorbar": {
             "outlinewidth": 0,
             "ticks": ""
            },
            "type": "contourcarpet"
           }
          ],
          "heatmap": [
           {
            "colorbar": {
             "outlinewidth": 0,
             "ticks": ""
            },
            "colorscale": [
             [
              0,
              "#0d0887"
             ],
             [
              0.1111111111111111,
              "#46039f"
             ],
             [
              0.2222222222222222,
              "#7201a8"
             ],
             [
              0.3333333333333333,
              "#9c179e"
             ],
             [
              0.4444444444444444,
              "#bd3786"
             ],
             [
              0.5555555555555556,
              "#d8576b"
             ],
             [
              0.6666666666666666,
              "#ed7953"
             ],
             [
              0.7777777777777778,
              "#fb9f3a"
             ],
             [
              0.8888888888888888,
              "#fdca26"
             ],
             [
              1,
              "#f0f921"
             ]
            ],
            "type": "heatmap"
           }
          ],
          "heatmapgl": [
           {
            "colorbar": {
             "outlinewidth": 0,
             "ticks": ""
            },
            "colorscale": [
             [
              0,
              "#0d0887"
             ],
             [
              0.1111111111111111,
              "#46039f"
             ],
             [
              0.2222222222222222,
              "#7201a8"
             ],
             [
              0.3333333333333333,
              "#9c179e"
             ],
             [
              0.4444444444444444,
              "#bd3786"
             ],
             [
              0.5555555555555556,
              "#d8576b"
             ],
             [
              0.6666666666666666,
              "#ed7953"
             ],
             [
              0.7777777777777778,
              "#fb9f3a"
             ],
             [
              0.8888888888888888,
              "#fdca26"
             ],
             [
              1,
              "#f0f921"
             ]
            ],
            "type": "heatmapgl"
           }
          ],
          "histogram": [
           {
            "marker": {
             "pattern": {
              "fillmode": "overlay",
              "size": 10,
              "solidity": 0.2
             }
            },
            "type": "histogram"
           }
          ],
          "histogram2d": [
           {
            "colorbar": {
             "outlinewidth": 0,
             "ticks": ""
            },
            "colorscale": [
             [
              0,
              "#0d0887"
             ],
             [
              0.1111111111111111,
              "#46039f"
             ],
             [
              0.2222222222222222,
              "#7201a8"
             ],
             [
              0.3333333333333333,
              "#9c179e"
             ],
             [
              0.4444444444444444,
              "#bd3786"
             ],
             [
              0.5555555555555556,
              "#d8576b"
             ],
             [
              0.6666666666666666,
              "#ed7953"
             ],
             [
              0.7777777777777778,
              "#fb9f3a"
             ],
             [
              0.8888888888888888,
              "#fdca26"
             ],
             [
              1,
              "#f0f921"
             ]
            ],
            "type": "histogram2d"
           }
          ],
          "histogram2dcontour": [
           {
            "colorbar": {
             "outlinewidth": 0,
             "ticks": ""
            },
            "colorscale": [
             [
              0,
              "#0d0887"
             ],
             [
              0.1111111111111111,
              "#46039f"
             ],
             [
              0.2222222222222222,
              "#7201a8"
             ],
             [
              0.3333333333333333,
              "#9c179e"
             ],
             [
              0.4444444444444444,
              "#bd3786"
             ],
             [
              0.5555555555555556,
              "#d8576b"
             ],
             [
              0.6666666666666666,
              "#ed7953"
             ],
             [
              0.7777777777777778,
              "#fb9f3a"
             ],
             [
              0.8888888888888888,
              "#fdca26"
             ],
             [
              1,
              "#f0f921"
             ]
            ],
            "type": "histogram2dcontour"
           }
          ],
          "mesh3d": [
           {
            "colorbar": {
             "outlinewidth": 0,
             "ticks": ""
            },
            "type": "mesh3d"
           }
          ],
          "parcoords": [
           {
            "line": {
             "colorbar": {
              "outlinewidth": 0,
              "ticks": ""
             }
            },
            "type": "parcoords"
           }
          ],
          "pie": [
           {
            "automargin": true,
            "type": "pie"
           }
          ],
          "scatter": [
           {
            "fillpattern": {
             "fillmode": "overlay",
             "size": 10,
             "solidity": 0.2
            },
            "type": "scatter"
           }
          ],
          "scatter3d": [
           {
            "line": {
             "colorbar": {
              "outlinewidth": 0,
              "ticks": ""
             }
            },
            "marker": {
             "colorbar": {
              "outlinewidth": 0,
              "ticks": ""
             }
            },
            "type": "scatter3d"
           }
          ],
          "scattercarpet": [
           {
            "marker": {
             "colorbar": {
              "outlinewidth": 0,
              "ticks": ""
             }
            },
            "type": "scattercarpet"
           }
          ],
          "scattergeo": [
           {
            "marker": {
             "colorbar": {
              "outlinewidth": 0,
              "ticks": ""
             }
            },
            "type": "scattergeo"
           }
          ],
          "scattergl": [
           {
            "marker": {
             "colorbar": {
              "outlinewidth": 0,
              "ticks": ""
             }
            },
            "type": "scattergl"
           }
          ],
          "scattermapbox": [
           {
            "marker": {
             "colorbar": {
              "outlinewidth": 0,
              "ticks": ""
             }
            },
            "type": "scattermapbox"
           }
          ],
          "scatterpolar": [
           {
            "marker": {
             "colorbar": {
              "outlinewidth": 0,
              "ticks": ""
             }
            },
            "type": "scatterpolar"
           }
          ],
          "scatterpolargl": [
           {
            "marker": {
             "colorbar": {
              "outlinewidth": 0,
              "ticks": ""
             }
            },
            "type": "scatterpolargl"
           }
          ],
          "scatterternary": [
           {
            "marker": {
             "colorbar": {
              "outlinewidth": 0,
              "ticks": ""
             }
            },
            "type": "scatterternary"
           }
          ],
          "surface": [
           {
            "colorbar": {
             "outlinewidth": 0,
             "ticks": ""
            },
            "colorscale": [
             [
              0,
              "#0d0887"
             ],
             [
              0.1111111111111111,
              "#46039f"
             ],
             [
              0.2222222222222222,
              "#7201a8"
             ],
             [
              0.3333333333333333,
              "#9c179e"
             ],
             [
              0.4444444444444444,
              "#bd3786"
             ],
             [
              0.5555555555555556,
              "#d8576b"
             ],
             [
              0.6666666666666666,
              "#ed7953"
             ],
             [
              0.7777777777777778,
              "#fb9f3a"
             ],
             [
              0.8888888888888888,
              "#fdca26"
             ],
             [
              1,
              "#f0f921"
             ]
            ],
            "type": "surface"
           }
          ],
          "table": [
           {
            "cells": {
             "fill": {
              "color": "#EBF0F8"
             },
             "line": {
              "color": "white"
             }
            },
            "header": {
             "fill": {
              "color": "#C8D4E3"
             },
             "line": {
              "color": "white"
             }
            },
            "type": "table"
           }
          ]
         },
         "layout": {
          "annotationdefaults": {
           "arrowcolor": "#2a3f5f",
           "arrowhead": 0,
           "arrowwidth": 1
          },
          "autotypenumbers": "strict",
          "coloraxis": {
           "colorbar": {
            "outlinewidth": 0,
            "ticks": ""
           }
          },
          "colorscale": {
           "diverging": [
            [
             0,
             "#8e0152"
            ],
            [
             0.1,
             "#c51b7d"
            ],
            [
             0.2,
             "#de77ae"
            ],
            [
             0.3,
             "#f1b6da"
            ],
            [
             0.4,
             "#fde0ef"
            ],
            [
             0.5,
             "#f7f7f7"
            ],
            [
             0.6,
             "#e6f5d0"
            ],
            [
             0.7,
             "#b8e186"
            ],
            [
             0.8,
             "#7fbc41"
            ],
            [
             0.9,
             "#4d9221"
            ],
            [
             1,
             "#276419"
            ]
           ],
           "sequential": [
            [
             0,
             "#0d0887"
            ],
            [
             0.1111111111111111,
             "#46039f"
            ],
            [
             0.2222222222222222,
             "#7201a8"
            ],
            [
             0.3333333333333333,
             "#9c179e"
            ],
            [
             0.4444444444444444,
             "#bd3786"
            ],
            [
             0.5555555555555556,
             "#d8576b"
            ],
            [
             0.6666666666666666,
             "#ed7953"
            ],
            [
             0.7777777777777778,
             "#fb9f3a"
            ],
            [
             0.8888888888888888,
             "#fdca26"
            ],
            [
             1,
             "#f0f921"
            ]
           ],
           "sequentialminus": [
            [
             0,
             "#0d0887"
            ],
            [
             0.1111111111111111,
             "#46039f"
            ],
            [
             0.2222222222222222,
             "#7201a8"
            ],
            [
             0.3333333333333333,
             "#9c179e"
            ],
            [
             0.4444444444444444,
             "#bd3786"
            ],
            [
             0.5555555555555556,
             "#d8576b"
            ],
            [
             0.6666666666666666,
             "#ed7953"
            ],
            [
             0.7777777777777778,
             "#fb9f3a"
            ],
            [
             0.8888888888888888,
             "#fdca26"
            ],
            [
             1,
             "#f0f921"
            ]
           ]
          },
          "colorway": [
           "#636efa",
           "#EF553B",
           "#00cc96",
           "#ab63fa",
           "#FFA15A",
           "#19d3f3",
           "#FF6692",
           "#B6E880",
           "#FF97FF",
           "#FECB52"
          ],
          "font": {
           "color": "#2a3f5f"
          },
          "geo": {
           "bgcolor": "white",
           "lakecolor": "white",
           "landcolor": "#E5ECF6",
           "showlakes": true,
           "showland": true,
           "subunitcolor": "white"
          },
          "hoverlabel": {
           "align": "left"
          },
          "hovermode": "closest",
          "mapbox": {
           "style": "light"
          },
          "paper_bgcolor": "white",
          "plot_bgcolor": "#E5ECF6",
          "polar": {
           "angularaxis": {
            "gridcolor": "white",
            "linecolor": "white",
            "ticks": ""
           },
           "bgcolor": "#E5ECF6",
           "radialaxis": {
            "gridcolor": "white",
            "linecolor": "white",
            "ticks": ""
           }
          },
          "scene": {
           "xaxis": {
            "backgroundcolor": "#E5ECF6",
            "gridcolor": "white",
            "gridwidth": 2,
            "linecolor": "white",
            "showbackground": true,
            "ticks": "",
            "zerolinecolor": "white"
           },
           "yaxis": {
            "backgroundcolor": "#E5ECF6",
            "gridcolor": "white",
            "gridwidth": 2,
            "linecolor": "white",
            "showbackground": true,
            "ticks": "",
            "zerolinecolor": "white"
           },
           "zaxis": {
            "backgroundcolor": "#E5ECF6",
            "gridcolor": "white",
            "gridwidth": 2,
            "linecolor": "white",
            "showbackground": true,
            "ticks": "",
            "zerolinecolor": "white"
           }
          },
          "shapedefaults": {
           "line": {
            "color": "#2a3f5f"
           }
          },
          "ternary": {
           "aaxis": {
            "gridcolor": "white",
            "linecolor": "white",
            "ticks": ""
           },
           "baxis": {
            "gridcolor": "white",
            "linecolor": "white",
            "ticks": ""
           },
           "bgcolor": "#E5ECF6",
           "caxis": {
            "gridcolor": "white",
            "linecolor": "white",
            "ticks": ""
           }
          },
          "title": {
           "x": 0.05
          },
          "xaxis": {
           "automargin": true,
           "gridcolor": "white",
           "linecolor": "white",
           "ticks": "",
           "title": {
            "standoff": 15
           },
           "zerolinecolor": "white",
           "zerolinewidth": 2
          },
          "yaxis": {
           "automargin": true,
           "gridcolor": "white",
           "linecolor": "white",
           "ticks": "",
           "title": {
            "standoff": 15
           },
           "zerolinecolor": "white",
           "zerolinewidth": 2
          }
         }
        },
        "width": 500,
        "xaxis": {
         "autorange": false,
         "exponentformat": "e",
         "linecolor": "black",
         "linewidth": 1,
         "mirror": false,
         "range": [
          -0.035800244808197025,
          1.8258124852180482
         ],
         "showexponent": "all",
         "showline": true,
         "side": "bottom",
         "ticks": "outside",
         "title": {
          "text": "Birth"
         },
         "type": "linear",
         "zeroline": true
        },
        "yaxis": {
         "autorange": false,
         "exponentformat": "e",
         "linecolor": "black",
         "linewidth": 1,
         "mirror": false,
         "range": [
          -0.035800244808197025,
          1.8258124852180482
         ],
         "scaleanchor": "x",
         "scaleratio": 1,
         "showexponent": "all",
         "showline": true,
         "side": "left",
         "ticks": "outside",
         "title": {
          "text": "Death"
         },
         "type": "linear",
         "zeroline": true
        }
       }
      }
     },
     "metadata": {},
     "output_type": "display_data"
    }
   ],
   "source": [
    "\n",
    "\n",
    "i = 0\n",
    "plot_diagram(diagrams[i])"
   ]
  },
  {
   "cell_type": "code",
   "execution_count": 6,
   "metadata": {},
   "outputs": [],
   "source": [
    "\n",
    "\n",
    "PE = PersistenceEntropy()\n",
    "features = PE.fit_transform(diagrams)"
   ]
  },
  {
   "cell_type": "code",
   "execution_count": 7,
   "metadata": {},
   "outputs": [
    {
     "data": {
      "text/plain": [
       "1.0"
      ]
     },
     "execution_count": 7,
     "metadata": {},
     "output_type": "execute_result"
    }
   ],
   "source": [
    "\n",
    "\n",
    "X_train, X_valid, y_train, y_valid = train_test_split(features, labels)\n",
    "model = RandomForestClassifier()\n",
    "model.fit(X_train, y_train)\n",
    "model.score(X_valid, y_valid)"
   ]
  },
  {
   "cell_type": "code",
   "execution_count": null,
   "metadata": {},
   "outputs": [],
   "source": []
  }
 ],
 "metadata": {
  "kernelspec": {
   "display_name": "Python 3",
   "language": "python",
   "name": "python3"
  },
  "language_info": {
   "codemirror_mode": {
    "name": "ipython",
    "version": 3
   },
   "file_extension": ".py",
   "mimetype": "text/x-python",
   "name": "python",
   "nbconvert_exporter": "python",
   "pygments_lexer": "ipython3",
   "version": "3.11.5"
  }
 },
 "nbformat": 4,
 "nbformat_minor": 2
}
