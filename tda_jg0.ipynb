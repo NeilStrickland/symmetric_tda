{
 "cells": [
  {
   "cell_type": "code",
   "execution_count": 1,
   "metadata": {},
   "outputs": [],
   "source": [
    "import numpy as np\n",
    "import pandas as pd\n",
    "import numpy as np\n",
    "import os\n",
    "import sys\n",
    "from spaces import *\n",
    "import gtda\n",
    "import matplotlib.pyplot as plt\n",
    "from pathlib import Path #auxilliary module\n",
    "from gtda.plotting import plot_diagram\n",
    "from gtda.homology import VietorisRipsPersistence\n",
    "from gtda.plotting import plot_diagram\n",
    "from gtda.diagrams import PersistenceEntropy\n",
    "from sklearn.ensemble import RandomForestClassifier\n",
    "from sklearn.model_selection import train_test_split\n"
   ]
  },
  {
   "cell_type": "code",
   "execution_count": 2,
   "metadata": {},
   "outputs": [],
   "source": [
    "sys.path.append(\"C:\\\\Users\\\\Joe\\\\Documents\\\\University\\\\4th Year\\\\symmetric_tda\")"
   ]
  },
  {
   "cell_type": "code",
   "execution_count": 3,
   "metadata": {},
   "outputs": [],
   "source": [
    "def extract_key_vectors(diagrams, n):\n",
    "    key_vectors = [None] * 4\n",
    "\n",
    "    for batch in diagrams:\n",
    "        for vector in batch:\n",
    "            V1, V2, V3 = vector # v1 = birth, v2 = death, v3 = dimension\n",
    "            \n",
    "            # First key vector: V[0] is the vector with the latest death for which v3 = n - 1\n",
    "            if V3 == n - 1:\n",
    "                if key_vectors[0] is None or V2 > key_vectors[0][1]:\n",
    "                    key_vectors[0] = vector\n",
    "\n",
    "            # Second key vector: V[1] is the vector with the earliest birth for which v3 = n\n",
    "            if V3 == n:\n",
    "                if key_vectors[1] is None or V1 < key_vectors[1][0]:\n",
    "                    key_vectors[1] = vector\n",
    "\n",
    "\n",
    "            # Third key vector: V[2] is the vector with the latest death for which v3 = n\n",
    "            if V3 == n:\n",
    "                if key_vectors[2] is None or V2 > key_vectors[2][1]:\n",
    "                    key_vectors[2] = vector\n",
    "\n",
    "            # Fourth key vector: V[3] is the vector with the earliest birth for which v3 = n + 1\n",
    "            if V3 == n + 1:\n",
    "                if key_vectors[3] is None or V1 < key_vectors[3][0]:\n",
    "                    key_vectors[3] = vector\n",
    "\n",
    "    return key_vectors"
   ]
  },
  {
   "cell_type": "code",
   "execution_count": 20,
   "metadata": {},
   "outputs": [],
   "source": [
    "def extract_key_values(diagrams, n):\n",
    "    key_values_per_batch = []\n",
    "\n",
    "    for batch in diagrams:\n",
    "        Z0 = batch\n",
    "        d = n\n",
    "        [a0, a1, a2, a3] = [None] * 4\n",
    "        # Efficiently calculate the key values\n",
    "        a0 = Z0[Z0[:,2] < d][:,1].max()\n",
    "        a1 = Z0[Z0[:,2] == d][:,0].min()\n",
    "        a2 = Z0[Z0[:,2] == d][:,1].max()\n",
    "        a3 = Z0[Z0[:,2] > d][:,0].min()\n",
    "        # Append the key values as a vector\n",
    "        key_values_per_batch.append([a0, a1, a2, a3])\n",
    "\n",
    "    return key_values_per_batch"
   ]
  },
  {
   "cell_type": "code",
   "execution_count": 4,
   "metadata": {},
   "outputs": [],
   "source": [
    "\n",
    "class Torus(Space): #regular torus\n",
    "    def __init__(self, R, r):\n",
    "        \"\"\"\n",
    "        Create a torus with major radius R and minor radius r.\n",
    "        The embedding dimension is 3 (in 3D space).\n",
    "        \"\"\"\n",
    "        self.R = R  # Major radius\n",
    "        self.r = r  # Minor radius\n",
    "        super().__init__('Torus', 3, 2)\n",
    "\n",
    "    def sample(self, sample_size, num_samples=1):\n",
    "        \"\"\"\n",
    "        Returns a numpy matrix of shape n x edim, where each row is a\n",
    "        random point on the torus. To do this, we generate random angles\n",
    "        theta and phi, and then compute the corresponding points on the torus.\n",
    "        \"\"\"\n",
    "        theta = np.random.uniform(0, 2 * np.pi, sample_size * num_samples)\n",
    "        phi = np.random.uniform(0, 2 * np.pi, sample_size * num_samples)\n",
    "\n",
    "        x = (self.R + self.r * np.cos(phi)) * np.cos(theta)\n",
    "        y = (self.R + self.r * np.cos(phi)) * np.sin(theta)\n",
    "        z = self.r * np.sin(phi)\n",
    "\n",
    "        points = np.vstack((x, y, z)).T\n",
    "        self.points = points.reshape(num_samples, sample_size, self.edim)\n",
    "        return self.points"
   ]
  },
  {
   "cell_type": "code",
   "execution_count": 5,
   "metadata": {},
   "outputs": [],
   "source": [
    "class NTorus(Space):\n",
    "    def __init__(self, n):\n",
    "        \"\"\"\n",
    "        Create an n-dimensional torus. The embedding dimension is 2n.\n",
    "        \"\"\"\n",
    "        self.n = n\n",
    "        super().__init__('T^{' + str(n) + '}', 2 * n, n)\n",
    "\n",
    "    def sample(self, sample_size, num_samples=1):\n",
    "        \"\"\"\n",
    "        Returns a numpy matrix of shape (num_samples, sample_size, 2n), where each row is a\n",
    "        random point on the n-dimensional torus. To do this, we generate random angles\n",
    "        theta_i uniformly distributed between 0 and 2*pi for each dimension.\n",
    "        \"\"\"\n",
    "        theta = np.random.uniform(0, 2 * np.pi, (sample_size * num_samples, self.n))\n",
    "\n",
    "        # Compute the corresponding points in the embedding space\n",
    "        points = np.hstack((np.cos(theta), np.sin(theta)))\n",
    "\n",
    "        self.points = points.reshape(num_samples, sample_size, self.edim)\n",
    "        return self.points"
   ]
  },
  {
   "cell_type": "code",
   "execution_count": 6,
   "metadata": {},
   "outputs": [],
   "source": [
    "T = Space.fit(NTorus(3), 70, 1)"
   ]
  },
  {
   "cell_type": "code",
   "execution_count": 5,
   "metadata": {},
   "outputs": [
    {
     "name": "stdout",
     "output_type": "stream",
     "text": [
      "   Dimension of Sphere  Difference before  Difference after     Range\n",
      "0                    2           0.064934          0.031202  0.491755\n",
      "1                    3           0.066893          0.007565  0.075539\n",
      "2                    4          -0.290804          0.000000  0.365355\n",
      "3                    5          -0.101817          0.003265  0.185310\n"
     ]
    }
   ],
   "source": [
    "results = []\n",
    "#plot_diagram(S[0])\n",
    "k = 45 # number of points sampled\n",
    "p = 1 # number of batches\n",
    "for n in range(2, 6):\n",
    "\n",
    "    V = extract_key_vectors(Space.fit(Sphere(n), k, p), n)\n",
    "\n",
    "    # Calculate the difference in distance between the birth and death of key vector 1 and key vector 0, respectively\n",
    "    differencebefore = V[1][0] - V[0][1]\n",
    "    # Calculate the difference in distance between the birth and death of key vector 3 and key vector 2, respectively\n",
    "    differenceafter = V[3][0] - V[2][1]\n",
    "    rng = V[2][1] - V[1][0] #range in which the homology is correct\n",
    "    # Append the result to the list\n",
    "    results.append({'Dimension of Sphere': n, 'Difference before': differencebefore, 'Difference after': differenceafter, 'Range': rng})\n",
    "\n",
    "# Convert the results to a DataFrame\n",
    "results_df = pd.DataFrame(results)\n",
    "\n",
    "# Display the results\n",
    "print(results_df)"
   ]
  },
  {
   "cell_type": "code",
   "execution_count": null,
   "metadata": {},
   "outputs": [
    {
     "name": "stdout",
     "output_type": "stream",
     "text": [
      "   Dimension of Sphere  Difference before  Difference after     Range\n",
      "0                    2           0.324573          0.011523  0.626891\n",
      "1                    3           0.001210          0.003818  0.484681\n"
     ]
    }
   ],
   "source": [
    "results = []\n",
    "#plot_diagram(S[0])\n",
    "k = 105 # number of points sampled\n",
    "p = 1 # number of batches\n",
    "for n in range(2, 4):\n",
    "\n",
    "    V = extract_key_values(Space.fit(Sphere(n), k, p), n)\n",
    "    # Calculate the difference in distance between the birth and death of key vector 1 and key vector 0, respectively\n",
    "    differencebefore = V[0][1] - V[0][0]\n",
    "    # Calculate the difference in distance between the birth and death of key vector 3 and key vector 2, respectively\n",
    "    differenceafter = V[0][3] - V[0][2]\n",
    "    rng = V[0][2] - V[0][1] #range in which the homology is correct\n",
    "    # Append the result to the list\n",
    "    results.append({'Dimension of Sphere': n, 'Difference before': differencebefore, 'Difference after': differenceafter, 'Range': rng})\n",
    "\n",
    "# Convert the results to a DataFrame\n",
    "results_df = pd.DataFrame(results)\n",
    "\n",
    "# Display the results\n",
    "print(results_df)"
   ]
  },
  {
   "cell_type": "code",
   "execution_count": 34,
   "metadata": {},
   "outputs": [],
   "source": [
    "Q = Space.fit(Sphere(2), 245, 1)"
   ]
  },
  {
   "cell_type": "code",
   "execution_count": 35,
   "metadata": {},
   "outputs": [
    {
     "name": "stdout",
     "output_type": "stream",
     "text": [
      "[[0.6571176648139954, 0.635789692401886, 1.6428406238555908, 1.6518667936325073]]\n"
     ]
    }
   ],
   "source": [
    "Sval = extract_key_values(Q, 2)\n",
    "print(Sval)"
   ]
  },
  {
   "cell_type": "code",
   "execution_count": 36,
   "metadata": {},
   "outputs": [
    {
     "name": "stdout",
     "output_type": "stream",
     "text": [
      "[array([0.30441949, 0.65711766, 1.        ]), array([0.63578969, 0.63677025, 2.        ]), array([0.6817475 , 1.64284062, 2.        ]), array([1.65186679, 1.69560254, 3.        ])]\n"
     ]
    }
   ],
   "source": [
    "Svect = extract_key_vectors(Q, 2)\n",
    "print(Svect)"
   ]
  }
 ],
 "metadata": {
  "kernelspec": {
   "display_name": "Python 3",
   "language": "python",
   "name": "python3"
  },
  "language_info": {
   "codemirror_mode": {
    "name": "ipython",
    "version": 3
   },
   "file_extension": ".py",
   "mimetype": "text/x-python",
   "name": "python",
   "nbconvert_exporter": "python",
   "pygments_lexer": "ipython3",
   "version": "3.12.0"
  }
 },
 "nbformat": 4,
 "nbformat_minor": 2
}
